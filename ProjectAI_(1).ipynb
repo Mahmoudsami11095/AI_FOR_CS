{
  "nbformat": 4,
  "nbformat_minor": 0,
  "metadata": {
    "colab": {
      "name": "ProjectAI_(1).ipynb",
      "provenance": [],
      "collapsed_sections": [],
      "include_colab_link": true
    },
    "kernelspec": {
      "display_name": "Python 3",
      "name": "python3"
    },
    "language_info": {
      "name": "python"
    }
  },
  "cells": [
    {
      "cell_type": "markdown",
      "metadata": {
        "id": "view-in-github",
        "colab_type": "text"
      },
      "source": [
        "<a href=\"https://colab.research.google.com/github/Mahmoudsami11095/AI_FOR_CS/blob/main/ProjectAI_(1).ipynb\" target=\"_parent\"><img src=\"https://colab.research.google.com/assets/colab-badge.svg\" alt=\"Open In Colab\"/></a>"
      ]
    },
    {
      "cell_type": "code",
      "metadata": {
        "colab": {
          "base_uri": "https://localhost:8080/"
        },
        "id": "nvAq0ia9nFO3",
        "outputId": "79577bd2-34f9-4327-e365-c8cc942fc4ba"
      },
      "source": [
        "from google.colab import drive\n",
        "drive.mount('/content/drive')"
      ],
      "execution_count": 1,
      "outputs": [
        {
          "output_type": "stream",
          "name": "stdout",
          "text": [
            "Mounted at /content/drive\n"
          ]
        }
      ]
    },
    {
      "cell_type": "code",
      "metadata": {
        "colab": {
          "base_uri": "https://localhost:8080/"
        },
        "id": "_9syACaBniG9",
        "outputId": "ed5541f8-b2f9-4136-ce4d-0e21a243c17f"
      },
      "source": [
        "from glob2 import glob\n",
        "import random\n",
        "import nltk\n",
        "from nltk import word_tokenize\n",
        "from nltk.corpus import stopwords\n",
        "from nltk.tokenize import RegexpTokenizer \n",
        "from bs4 import BeautifulSoup\n",
        "import re\n",
        "import pandas as pd\n",
        "import numpy as np\n",
        "import string\n",
        "import matplotlib.pyplot as plt\n",
        "import seaborn as sns\n",
        "from collections import Counter\n",
        "from urllib  import request\n",
        "from sklearn.model_selection import train_test_split\n",
        "from sklearn.neighbors import KNeighborsClassifier\n",
        "from sklearn.tree import DecisionTreeClassifier\n",
        "from sklearn import svm, preprocessing, metrics\n",
        "from sklearn.ensemble import RandomForestClassifier\n",
        "from sklearn.linear_model import LogisticRegression\n",
        "from sklearn.linear_model import SGDClassifier\n",
        "from sklearn.neural_network import MLPClassifier\n",
        "from sklearn.model_selection import train_test_split, KFold\n",
        "from sklearn import metrics\n",
        "from sklearn.feature_extraction.text import TfidfTransformer\n",
        "from sklearn.feature_extraction.text import CountVectorizer\n",
        "from sklearn.pipeline import Pipeline\n",
        "from sklearn import preprocessing\n",
        "from copy import deepcopy\n",
        "from sklearn.decomposition import LatentDirichletAllocation\n",
        "from sklearn.discriminant_analysis import LinearDiscriminantAnalysis\n",
        "import re\n",
        "import sys\n",
        "from sklearn.linear_model import LogisticRegression\n",
        "from sklearn.ensemble import RandomForestRegressor\n",
        "from xgboost import XGBClassifier\n",
        "from sklearn.metrics import accuracy_score, f1_score, precision_score, recall_score, classification_report, confusion_matrix\n",
        "\n",
        "\n",
        "nltk.download('stopwords')\n",
        "nltk.download('wordnet')\n",
        "\n",
        "stop_words = set(stopwords.words(\"english\"))"
      ],
      "execution_count": 2,
      "outputs": [
        {
          "output_type": "stream",
          "name": "stdout",
          "text": [
            "[nltk_data] Downloading package stopwords to /root/nltk_data...\n",
            "[nltk_data]   Unzipping corpora/stopwords.zip.\n",
            "[nltk_data] Downloading package wordnet to /root/nltk_data...\n",
            "[nltk_data]   Unzipping corpora/wordnet.zip.\n"
          ]
        }
      ]
    },
    {
      "cell_type": "code",
      "metadata": {
        "colab": {
          "base_uri": "https://localhost:8080/",
          "height": 357
        },
        "id": "ahQJUsl2Fmh9",
        "outputId": "f55c16df-9416-4af4-de55-954834e8b0b3"
      },
      "source": [
        "!pip install xgboost\n",
        "!pip install --upgrade xgboost"
      ],
      "execution_count": 3,
      "outputs": [
        {
          "output_type": "stream",
          "name": "stdout",
          "text": [
            "Requirement already satisfied: xgboost in /usr/local/lib/python3.7/dist-packages (0.90)\n",
            "Requirement already satisfied: scipy in /usr/local/lib/python3.7/dist-packages (from xgboost) (1.4.1)\n",
            "Requirement already satisfied: numpy in /usr/local/lib/python3.7/dist-packages (from xgboost) (1.19.5)\n",
            "Requirement already satisfied: xgboost in /usr/local/lib/python3.7/dist-packages (0.90)\n",
            "Collecting xgboost\n",
            "  Downloading xgboost-1.5.0-py3-none-manylinux2014_x86_64.whl (173.5 MB)\n",
            "\u001b[K     |████████████████████████████████| 173.5 MB 63 kB/s \n",
            "\u001b[?25hRequirement already satisfied: scipy in /usr/local/lib/python3.7/dist-packages (from xgboost) (1.4.1)\n",
            "Requirement already satisfied: numpy in /usr/local/lib/python3.7/dist-packages (from xgboost) (1.19.5)\n",
            "Installing collected packages: xgboost\n",
            "  Attempting uninstall: xgboost\n",
            "    Found existing installation: xgboost 0.90\n",
            "    Uninstalling xgboost-0.90:\n",
            "      Successfully uninstalled xgboost-0.90\n",
            "Successfully installed xgboost-1.5.0\n"
          ]
        },
        {
          "output_type": "display_data",
          "data": {
            "application/vnd.colab-display-data+json": {
              "pip_warning": {
                "packages": [
                  "xgboost"
                ]
              }
            }
          },
          "metadata": {}
        }
      ]
    },
    {
      "cell_type": "code",
      "metadata": {
        "id": "410KV0IInh_U"
      },
      "source": [
        "pathMaleware = \"/content/drive/MyDrive/Uottawa GP/dataset-malware\"\n",
        "pathNormal = \"/content/drive/MyDrive/Uottawa GP/dataset-normal\"\n",
        "\n",
        "pathMalewareAfterComments = \"/content/drive/MyDrive/Uottawa GP/Malware_Samples_After_Comments\"\n",
        "pathNormalAfterComments = \"/content/drive/MyDrive/Uottawa GP/Benign_Samples_After_Comments\""
      ],
      "execution_count": 4,
      "outputs": []
    },
    {
      "cell_type": "code",
      "metadata": {
        "colab": {
          "base_uri": "https://localhost:8080/"
        },
        "id": "ClrBmeVunUa8",
        "outputId": "42862dff-1f8d-48ae-b1fc-753c1fe3027e"
      },
      "source": [
        "import glob\n",
        "\n",
        "dataMaleware = glob.glob(pathMaleware + '/*')\n",
        "dataNormal = glob.glob(pathNormal + '/*')\n",
        "\n",
        "\n",
        "dataMalewareAfterComments = glob.glob(pathMalewareAfterComments + '/*')\n",
        "dataNormalAfterComments = glob.glob(pathNormalAfterComments + '/*')\n",
        "\n",
        "\n",
        "print( pathMaleware)\n",
        "print( dataMaleware)\n",
        "print( len(dataMaleware))\n",
        "print( pathMalewareAfterComments)\n",
        "print( len(dataMalewareAfterComments))\n",
        "\n",
        "print( dataNormal )"
      ],
      "execution_count": 5,
      "outputs": [
        {
          "output_type": "stream",
          "name": "stdout",
          "text": [
            "/content/drive/MyDrive/Uottawa GP/dataset-malware\n",
            "['/content/drive/MyDrive/Uottawa GP/dataset-malware/empire_osx_HijackScanner.txt', '/content/drive/MyDrive/Uottawa GP/dataset-malware/empire_multi_desktopfile.txt', '/content/drive/MyDrive/Uottawa GP/dataset-malware/m.txt', '/content/drive/MyDrive/Uottawa GP/dataset-malware/veil_evasion_bind_tcp.txt', '/content/drive/MyDrive/Uottawa GP/dataset-malware/empire_active_directory_dscl_get_groupmembers.txt', '/content/drive/MyDrive/Uottawa GP/dataset-malware/empire_osx_pillage_user.txt', '/content/drive/MyDrive/Uottawa GP/dataset-malware/veil_evasion_rev_http_contained.txt', '/content/drive/MyDrive/Uottawa GP/dataset-malware/empire_linux_sniffer.txt', '/content/drive/MyDrive/Uottawa GP/dataset-malware/empire_dcos_chronos_api_add_job.txt', '/content/drive/MyDrive/Uottawa GP/dataset-malware/encrypted_veil_evasion_pidinject.txt', '/content/drive/MyDrive/Uottawa GP/dataset-malware/encrypted_veil_flat.txt', '/content/drive/MyDrive/Uottawa GP/dataset-malware/veil_evasion_flat.txt', '/content/drive/MyDrive/Uottawa GP/dataset-malware/veil_evasion_rev_https.txt', '/content/drive/MyDrive/Uottawa GP/dataset-malware/empire_active_directory_dscl_get_groups.txt', '/content/drive/MyDrive/Uottawa GP/dataset-malware/empire_osx_native_screenshot.txt', '/content/drive/MyDrive/Uottawa GP/dataset-malware/encrypted_veil_aes_encrypt.txt', '/content/drive/MyDrive/Uottawa GP/dataset-malware/empire_osx_piggyback.txt', '/content/drive/MyDrive/Uottawa GP/dataset-malware/encrypted_veil_evasion_download_inject.txt', '/content/drive/MyDrive/Uottawa GP/dataset-malware/empire_osx_LaunchAgentUserLandPersistence.txt', '/content/drive/MyDrive/Uottawa GP/dataset-malware/encrypted_veil_evasion_arc_encrypt.txt', '/content/drive/MyDrive/Uottawa GP/dataset-malware/encrypted_veil_evasion_flat.txt', '/content/drive/MyDrive/Uottawa GP/dataset-malware/empire_active_directory_get_computers.txt', '/content/drive/MyDrive/Uottawa GP/dataset-malware/empire_multi_kerberos_inject.txt', '/content/drive/MyDrive/Uottawa GP/dataset-malware/empire_network_smb_mount.txt', '/content/drive/MyDrive/Uottawa GP/dataset-malware/empire_osx_CreateHijacker.txt', '/content/drive/MyDrive/Uottawa GP/dataset-malware/encrypted_veil_rev_https.txt', '/content/drive/MyDrive/Uottawa GP/dataset-malware/veil_evasion_des_encrypt.txt', '/content/drive/MyDrive/Uottawa GP/dataset-malware/empire_osx_search_email.txt', '/content/drive/MyDrive/Uottawa GP/dataset-malware/empire_network_gethostbyname.txt', '/content/drive/MyDrive/Uottawa GP/dataset-malware/username.txt', '/content/drive/MyDrive/Uottawa GP/dataset-malware/veil_rev_https.txt', '/content/drive/MyDrive/Uottawa GP/dataset-malware/empire_osx_loginhook.txt', '/content/drive/MyDrive/Uottawa GP/dataset-malware/windows_updates.txt', '/content/drive/MyDrive/Uottawa GP/dataset-malware/empire_network_http_rest_api.txt', '/content/drive/MyDrive/Uottawa GP/dataset-malware/empire_dcos_marathon_api_delete_app.txt', '/content/drive/MyDrive/Uottawa GP/dataset-malware/socks_source.txt', '/content/drive/MyDrive/Uottawa GP/dataset-malware/veil_evasion_rev_http.txt', '/content/drive/MyDrive/Uottawa GP/dataset-malware/PowershellRAT.txt', '/content/drive/MyDrive/Uottawa GP/dataset-malware/sleep_acceleration.txt', '/content/drive/MyDrive/Uottawa GP/dataset-malware/empire_active_directory_get_fileservers.txt', '/content/drive/MyDrive/Uottawa GP/dataset-malware/empire_linux_linux_priv_checker.txt', '/content/drive/MyDrive/Uottawa GP/dataset-malware/empire_network_find_fruit.txt', '/content/drive/MyDrive/Uottawa GP/dataset-malware/minimum_num_browsers.txt', '/content/drive/MyDrive/Uottawa GP/dataset-malware/empire_active_directory_get_groupmembers.txt', '/content/drive/MyDrive/Uottawa GP/dataset-malware/empire_osx_RemoveDaemon.txt', '/content/drive/MyDrive/Uottawa GP/dataset-malware/empire_osx_kerberosdump.txt', '/content/drive/MyDrive/Uottawa GP/dataset-malware/empire_osx_clipboard.txt', '/content/drive/MyDrive/Uottawa GP/dataset-malware/empire_osx_imessage_dump.txt', '/content/drive/MyDrive/Uottawa GP/dataset-malware/current_file_name.txt', '/content/drive/MyDrive/Uottawa GP/dataset-malware/empire_active_directory_get_users.txt', '/content/drive/MyDrive/Uottawa GP/dataset-malware/hybrid_7682ff8609c5b963882683bb0e82dc3c03dc2010ffce26dd5820444a699e50f3.bin.txt', '/content/drive/MyDrive/Uottawa GP/dataset-malware/veil_evasion_base64_substitution.txt', '/content/drive/MyDrive/Uottawa GP/dataset-malware/minimum_num_running_processes.txt', '/content/drive/MyDrive/Uottawa GP/dataset-malware/empire_osx_screensaver_alleyoop.txt', '/content/drive/MyDrive/Uottawa GP/dataset-malware/empire_active_directory_get_ous.txt', '/content/drive/MyDrive/Uottawa GP/dataset-malware/veil_pidinject.txt', '/content/drive/MyDrive/Uottawa GP/dataset-malware/empire_osx_sniffer.txt', '/content/drive/MyDrive/Uottawa GP/dataset-malware/veil_arc_encrypt.txt', '/content/drive/MyDrive/Uottawa GP/dataset-malware/empire_linux_mimipenguin.txt', '/content/drive/MyDrive/Uottawa GP/dataset-malware/click_tracker.txt', '/content/drive/MyDrive/Uottawa GP/dataset-malware/veil_des_encrypt.txt', '/content/drive/MyDrive/Uottawa GP/dataset-malware/user_prompt.txt', '/content/drive/MyDrive/Uottawa GP/dataset-malware/empire_osx_webcam.txt', '/content/drive/MyDrive/Uottawa GP/dataset-malware/empire_active_directory_get_domaincontrollers.txt', '/content/drive/MyDrive/Uottawa GP/dataset-malware/empire_osx_keychaindump_chainbreaker.txt', '/content/drive/MyDrive/Uottawa GP/dataset-malware/veil_evasion_rev_https_contained.txt', '/content/drive/MyDrive/Uottawa GP/dataset-malware/empire_osx_situational_awareness.txt', '/content/drive/MyDrive/Uottawa GP/dataset-malware/empire_multi_ssh_command.txt', '/content/drive/MyDrive/Uottawa GP/dataset-malware/filepath_existence.txt', '/content/drive/MyDrive/Uottawa GP/dataset-malware/dropper.txt', '/content/drive/MyDrive/Uottawa GP/dataset-malware/empire_linux_hashdump.txt', '/content/drive/MyDrive/Uottawa GP/dataset-malware/veil_aes_encrypt.txt', '/content/drive/MyDrive/Uottawa GP/dataset-malware/empire_active_directory_get_groupmemberships.txt', '/content/drive/MyDrive/Uottawa GP/dataset-malware/empire_osx_prompt.txt', '/content/drive/MyDrive/Uottawa GP/dataset-malware/veil_evasion_aes_encrypt.txt', '/content/drive/MyDrive/Uottawa GP/dataset-malware/empire_multi_bashdoor.txt', '/content/drive/MyDrive/Uottawa GP/dataset-malware/empire_multi_sudo_spawn.txt', '/content/drive/MyDrive/Uottawa GP/dataset-malware/registry_size.txt', '/content/drive/MyDrive/Uottawa GP/dataset-malware/veil_evasion_stallion.txt', '/content/drive/MyDrive/Uottawa GP/dataset-malware/encrypted_veil_evasion_rev_http.txt', '/content/drive/MyDrive/Uottawa GP/dataset-malware/pyobfuscate.txt', '/content/drive/MyDrive/Uottawa GP/dataset-malware/veil_flat.txt', '/content/drive/MyDrive/Uottawa GP/dataset-malware/encrypted_veil_evasion_aes_encrypt_HTTPKEY_Request.txt', '/content/drive/MyDrive/Uottawa GP/dataset-malware/gcat.txt', '/content/drive/MyDrive/Uottawa GP/dataset-malware/ram.txt', '/content/drive/MyDrive/Uottawa GP/dataset-malware/parent_process.txt', '/content/drive/MyDrive/Uottawa GP/dataset-malware/encrypted_veil_pidinject.txt', '/content/drive/MyDrive/Uottawa GP/dataset-malware/veil_evasion_rev_tcp.txt', '/content/drive/MyDrive/Uottawa GP/dataset-malware/empire_network_port_scan.txt', '/content/drive/MyDrive/Uottawa GP/dataset-malware/empire_osx_native_screenshot_mss.txt', '/content/drive/MyDrive/Uottawa GP/dataset-malware/empire_osx_keychaindump.txt', '/content/drive/MyDrive/Uottawa GP/dataset-malware/veil_letter_substitution.txt', '/content/drive/MyDrive/Uottawa GP/dataset-malware/encrypted_veil_bind_tcp.txt', '/content/drive/MyDrive/Uottawa GP/dataset-malware/empire_linux_xkeylogger.txt', '/content/drive/MyDrive/Uottawa GP/dataset-malware/veil_base64_substitution.txt', '/content/drive/MyDrive/Uottawa GP/dataset-malware/empire_active_directory_dscl_get_users.txt', '/content/drive/MyDrive/Uottawa GP/dataset-malware/empire_osx_say.txt', '/content/drive/MyDrive/Uottawa GP/dataset-malware/veil_evasion_arc_encrypt.txt', '/content/drive/MyDrive/Uottawa GP/dataset-malware/encrypted_veil_evasion_base64_substitution.txt', '/content/drive/MyDrive/Uottawa GP/dataset-malware/encrypted_veil_evasion_rev_http_contained.txt', '/content/drive/MyDrive/Uottawa GP/dataset-malware/empire_active_directory_get_userinformation.txt', '/content/drive/MyDrive/Uottawa GP/dataset-malware/domain.txt', '/content/drive/MyDrive/Uottawa GP/dataset-malware/encrypted_veil_evasion_bind_tcp.txt', '/content/drive/MyDrive/Uottawa GP/dataset-malware/disk_size.txt', '/content/drive/MyDrive/Uottawa GP/dataset-malware/empire_osx_shellcodeinject64.txt', '/content/drive/MyDrive/Uottawa GP/dataset-malware/cursor_position.txt', '/content/drive/MyDrive/Uottawa GP/dataset-malware/encrypted_veil_evasion_rev_https_contained.txt', '/content/drive/MyDrive/Uottawa GP/dataset-malware/encrypted_veil_evasion_aes_encrypt.txt', '/content/drive/MyDrive/Uottawa GP/dataset-malware/empire_multi_SuidGuidSearch.txt', '/content/drive/MyDrive/Uottawa GP/dataset-malware/encrypted_veil_rev_tcp.txt', '/content/drive/MyDrive/Uottawa GP/dataset-malware/processors.txt', '/content/drive/MyDrive/Uottawa GP/dataset-malware/empire_dcos_chronos_api_delete_job.txt', '/content/drive/MyDrive/Uottawa GP/dataset-malware/veil_evasion_letter_substitution.txt', '/content/drive/MyDrive/Uottawa GP/dataset-malware/encrypted_veil_stallion.txt', '/content/drive/MyDrive/Uottawa GP/dataset-malware/veil_bind_tcp.txt', '/content/drive/MyDrive/Uottawa GP/dataset-malware/empire_osx_hashdump.txt', '/content/drive/MyDrive/Uottawa GP/dataset-malware/empire_osx_osx_mic_record.txt', '/content/drive/MyDrive/Uottawa GP/dataset-malware/hostname.txt', '/content/drive/MyDrive/Uottawa GP/dataset-malware/empire_windows_get_gpppasswords.txt', '/content/drive/MyDrive/Uottawa GP/dataset-malware/bazaar_e45ffc61a85c2f5c0cbe9376ff215cad324bf14f925bf52ec0d2949f7d235a00.txt', '/content/drive/MyDrive/Uottawa GP/dataset-malware/empire_linux_pillage_user.txt', '/content/drive/MyDrive/Uottawa GP/dataset-malware/empire_dcos_etcd_crawler.txt', '/content/drive/MyDrive/Uottawa GP/dataset-malware/encrypted_veil_rev_http.txt', '/content/drive/MyDrive/Uottawa GP/dataset-malware/veil_evasion_aes_encrypt_HTTPKEY_Request.txt', '/content/drive/MyDrive/Uottawa GP/dataset-malware/encrypted_veil_letter_substitution.txt', '/content/drive/MyDrive/Uottawa GP/dataset-malware/empire_osx_mail.txt', '/content/drive/MyDrive/Uottawa GP/dataset-malware/empire_osx_launchdaemonexecutable.txt', '/content/drive/MyDrive/Uottawa GP/dataset-malware/empire_multi_crontab.txt', '/content/drive/MyDrive/Uottawa GP/dataset-malware/encrypted_veil_evasion_letter_substitution.txt', '/content/drive/MyDrive/Uottawa GP/dataset-malware/empire_active_directory_get_groups.txt', '/content/drive/MyDrive/Uottawa GP/dataset-malware/registry.txt', '/content/drive/MyDrive/Uottawa GP/dataset-malware/detect_debugging.txt', '/content/drive/MyDrive/Uottawa GP/dataset-malware/empire_multi_spawn.txt', '/content/drive/MyDrive/Uottawa GP/dataset-malware/empire_osx_change_background.txt', '/content/drive/MyDrive/Uottawa GP/dataset-malware/usb.txt', '/content/drive/MyDrive/Uottawa GP/dataset-malware/encrypted_veil_evasion_rev_tcp.txt', '/content/drive/MyDrive/Uottawa GP/dataset-malware/encrypted_veil_des_encrypt.txt', '/content/drive/MyDrive/Uottawa GP/dataset-malware/date_trigger.txt', '/content/drive/MyDrive/Uottawa GP/dataset-malware/encrypted_veil_evasion_stallion.txt', '/content/drive/MyDrive/Uottawa GP/dataset-malware/empire_osx_keychaindump_decrypt.txt', '/content/drive/MyDrive/Uottawa GP/dataset-malware/empire_osx_screenshot.txt', '/content/drive/MyDrive/Uottawa GP/dataset-malware/hybrid_0454f0899da893af4ed0624c44837a104e7b60a432fb85375adde460e85319da.bin.txt', '/content/drive/MyDrive/Uottawa GP/dataset-malware/empire_multi_ssh_launcher.txt', '/content/drive/MyDrive/Uottawa GP/dataset-malware/Implant-Core.txt', '/content/drive/MyDrive/Uottawa GP/dataset-malware/empire_linux_keylogger.txt', '/content/drive/MyDrive/Uottawa GP/dataset-malware/empire_osx_screen_sharing.txt', '/content/drive/MyDrive/Uottawa GP/dataset-malware/empire_linux_unix_privesc_check.txt', '/content/drive/MyDrive/Uottawa GP/dataset-malware/encrypted_veil_arc_encrypt.txt', '/content/drive/MyDrive/Uottawa GP/dataset-malware/encrypted_veil_evasion_rev_https.txt', '/content/drive/MyDrive/Uottawa GP/dataset-malware/check_all_process_names.txt', '/content/drive/MyDrive/Uottawa GP/dataset-malware/bazaar_6b6378f112fbb41d0227bd6d14bc819d84043f2d9d660a88e5ecbb5eec1e4a6c.txt', '/content/drive/MyDrive/Uottawa GP/dataset-malware/veil_evasion_download_inject.txt', '/content/drive/MyDrive/Uottawa GP/dataset-malware/encrypted_veil_base64_substitution.txt', '/content/drive/MyDrive/Uottawa GP/dataset-malware/espl.txt', '/content/drive/MyDrive/Uottawa GP/dataset-malware/empire_osx_dyld_print_to_file.txt', '/content/drive/MyDrive/Uottawa GP/dataset-malware/UTC_time_zone.txt', '/content/drive/MyDrive/Uottawa GP/dataset-malware/empire_osx_keylogger.txt', '/content/drive/MyDrive/Uottawa GP/dataset-malware/encrypted_veil_evasion_des_encrypt.txt', '/content/drive/MyDrive/Uottawa GP/dataset-malware/veil_evasion_pidinject.txt', '/content/drive/MyDrive/Uottawa GP/dataset-malware/empire_osx_thunderstruck.txt', '/content/drive/MyDrive/Uottawa GP/dataset-malware/empire_osx_browser_dump.txt', '/content/drive/MyDrive/Uottawa GP/dataset-malware/linuxprivchecker.txt', '/content/drive/MyDrive/Uottawa GP/dataset-malware/empire_osx_login_message.txt', '/content/drive/MyDrive/Uottawa GP/dataset-malware/check_all_DLL_names.txt', '/content/drive/MyDrive/Uottawa GP/dataset-malware/empire_dcos_marathon_api_create_start_app.txt', '/content/drive/MyDrive/Uottawa GP/dataset-malware/empire_multi_WorldWriteableFileSearch.txt', '/content/drive/MyDrive/Uottawa GP/dataset-malware/empire_dcos_chronos_api_start_job.txt', '/content/drive/MyDrive/Uottawa GP/dataset-malware/empire_web_jboss_jmx.txt', '/content/drive/MyDrive/Uottawa GP/dataset-malware/logger - light.py', '/content/drive/MyDrive/Uottawa GP/dataset-malware/main.py', '/content/drive/MyDrive/Uottawa GP/dataset-malware/L.py', '/content/drive/MyDrive/Uottawa GP/dataset-malware/keylogger2.py', '/content/drive/MyDrive/Uottawa GP/dataset-malware/keyloggerWin.py', '/content/drive/MyDrive/Uottawa GP/dataset-malware/keylog.py', '/content/drive/MyDrive/Uottawa GP/dataset-malware/keylogger4.py', '/content/drive/MyDrive/Uottawa GP/dataset-malware/KeyloggerWindows.py', '/content/drive/MyDrive/Uottawa GP/dataset-malware/loggermain.py', '/content/drive/MyDrive/Uottawa GP/dataset-malware/keylogger.py', '/content/drive/MyDrive/Uottawa GP/dataset-malware/pylogger.py', '/content/drive/MyDrive/Uottawa GP/dataset-malware/keyboard_log.py', '/content/drive/MyDrive/Uottawa GP/dataset-malware/KeyDrive.py', '/content/drive/MyDrive/Uottawa GP/dataset-malware/keylogger1.py', '/content/drive/MyDrive/Uottawa GP/dataset-malware/app.py', '/content/drive/MyDrive/Uottawa GP/dataset-malware/Lo0sR.py', '/content/drive/MyDrive/Uottawa GP/dataset-malware/log.py', '/content/drive/MyDrive/Uottawa GP/dataset-malware/screen_log.py', '/content/drive/MyDrive/Uottawa GP/dataset-malware/keyloggerLinx.py', '/content/drive/MyDrive/Uottawa GP/dataset-malware/local-keylogger.py', '/content/drive/MyDrive/Uottawa GP/dataset-malware/Whosit.py', '/content/drive/MyDrive/Uottawa GP/dataset-malware/keyloggerMedium.py', '/content/drive/MyDrive/Uottawa GP/dataset-malware/keylogger3.py', '/content/drive/MyDrive/Uottawa GP/dataset-malware/keylogger5.py', '/content/drive/MyDrive/Uottawa GP/dataset-malware/main1.py', '/content/drive/MyDrive/Uottawa GP/dataset-malware/PyLoggy.py', '/content/drive/MyDrive/Uottawa GP/dataset-malware/logger1.py']\n",
            "195\n",
            "/content/drive/MyDrive/Uottawa GP/Malware_Samples_After_Comments\n",
            "196\n",
            "['/content/drive/MyDrive/Uottawa GP/dataset-normal/event_track_stage.txt', '/content/drive/MyDrive/Uottawa GP/dataset-normal/crm_team.txt', '/content/drive/MyDrive/Uottawa GP/dataset-normal/bezier.txt', '/content/drive/MyDrive/Uottawa GP/dataset-normal/clickjacking.txt', '/content/drive/MyDrive/Uottawa GP/dataset-normal/base_model.txt', '/content/drive/MyDrive/Uottawa GP/dataset-normal/eu_tax_map.txt', '/content/drive/MyDrive/Uottawa GP/dataset-normal/crm_activity_report.txt', '/content/drive/MyDrive/Uottawa GP/dataset-normal/bench_hist_gradient_boosting_adult.txt', '/content/drive/MyDrive/Uottawa GP/dataset-normal/crm_lead_scoring_frequency.txt', '/content/drive/MyDrive/Uottawa GP/dataset-normal/test_profiler.txt', '/content/drive/MyDrive/Uottawa GP/dataset-normal/export.txt', '/content/drive/MyDrive/Uottawa GP/dataset-normal/detection_checkpoint.txt', '/content/drive/MyDrive/Uottawa GP/dataset-normal/controllers.txt', '/content/drive/MyDrive/Uottawa GP/dataset-normal/cascade_rcnn.txt', '/content/drive/MyDrive/Uottawa GP/dataset-normal/discrete_case.txt', '/content/drive/MyDrive/Uottawa GP/dataset-normal/bidi.txt', '/content/drive/MyDrive/Uottawa GP/dataset-normal/export_servable_model.txt', '/content/drive/MyDrive/Uottawa GP/dataset-normal/base_document_layout.txt', '/content/drive/MyDrive/Uottawa GP/dataset-normal/bench_feature_expansions.txt', '/content/drive/MyDrive/Uottawa GP/dataset-normal/commonlib.txt', '/content/drive/MyDrive/Uottawa GP/dataset-normal/extract_chinese_and_punct.txt', '/content/drive/MyDrive/Uottawa GP/dataset-normal/extensions_v1beta1_ingress_backend.txt', '/content/drive/MyDrive/Uottawa GP/dataset-normal/crm_lead_to_opportunity.txt', '/content/drive/MyDrive/Uottawa GP/dataset-normal/test_pos_stock_account.txt', '/content/drive/MyDrive/Uottawa GP/dataset-normal/cards.txt', '/content/drive/MyDrive/Uottawa GP/dataset-normal/board.txt', '/content/drive/MyDrive/Uottawa GP/dataset-normal/crm_lead_to_opportunity_mass.txt', '/content/drive/MyDrive/Uottawa GP/dataset-normal/empty_join.txt', '/content/drive/MyDrive/Uottawa GP/dataset-normal/emoji.txt', '/content/drive/MyDrive/Uottawa GP/dataset-normal/base_classes.txt', '/content/drive/MyDrive/Uottawa GP/dataset-normal/error.txt', '/content/drive/MyDrive/Uottawa GP/dataset-normal/bench_tsne_mnist.txt', '/content/drive/MyDrive/Uottawa GP/dataset-normal/connection.txt', '/content/drive/MyDrive/Uottawa GP/dataset-normal/dataset_split.txt', '/content/drive/MyDrive/Uottawa GP/dataset-normal/det_curve.txt', '/content/drive/MyDrive/Uottawa GP/dataset-normal/estimator_checks.txt', '/content/drive/MyDrive/Uottawa GP/dataset-normal/test_program_rules.txt', '/content/drive/MyDrive/Uottawa GP/dataset-normal/test_product_margin.txt', '/content/drive/MyDrive/Uottawa GP/dataset-normal/block.txt', '/content/drive/MyDrive/Uottawa GP/dataset-normal/test_proxy.txt', '/content/drive/MyDrive/Uottawa GP/dataset-normal/defaults.txt', '/content/drive/MyDrive/Uottawa GP/dataset-normal/core_v1_api.txt', '/content/drive/MyDrive/Uottawa GP/dataset-normal/chapter10.txt', '/content/drive/MyDrive/Uottawa GP/dataset-normal/custom_ops.txt', '/content/drive/MyDrive/Uottawa GP/dataset-normal/databricks_notebook_context.txt', '/content/drive/MyDrive/Uottawa GP/dataset-normal/circuits.txt', '/content/drive/MyDrive/Uottawa GP/dataset-normal/chart_output_hflip.txt', '/content/drive/MyDrive/Uottawa GP/dataset-normal/common_args.txt', '/content/drive/MyDrive/Uottawa GP/dataset-normal/errcheck.txt', '/content/drive/MyDrive/Uottawa GP/dataset-normal/windmill.txt', '/content/drive/MyDrive/Uottawa GP/dataset-normal/check_ssl_pinning.txt', '/content/drive/MyDrive/Uottawa GP/dataset-normal/cityscapes_evaluation.txt', '/content/drive/MyDrive/Uottawa GP/dataset-normal/creator.txt', '/content/drive/MyDrive/Uottawa GP/dataset-normal/DisplayDriver.txt', '/content/drive/MyDrive/Uottawa GP/dataset-normal/efaktur.txt', '/content/drive/MyDrive/Uottawa GP/dataset-normal/ending_with_dollar.txt', '/content/drive/MyDrive/Uottawa GP/dataset-normal/chnsenticorp.txt', '/content/drive/MyDrive/Uottawa GP/dataset-normal/test_pos_setup.txt', '/content/drive/MyDrive/Uottawa GP/dataset-normal/extensions_v1beta1_api.txt', '/content/drive/MyDrive/Uottawa GP/dataset-normal/test_projects_cli.txt', '/content/drive/MyDrive/Uottawa GP/dataset-normal/convert-torchvision-to-d2.txt', '/content/drive/MyDrive/Uottawa GP/dataset-normal/window.txt', '/content/drive/MyDrive/Uottawa GP/dataset-normal/event_track_tag.txt', '/content/drive/MyDrive/Uottawa GP/dataset-normal/changepassword.txt', '/content/drive/MyDrive/Uottawa GP/dataset-normal/wsgi-flask-app.txt', '/content/drive/MyDrive/Uottawa GP/dataset-normal/bench_plot_polynomial_kernel_approximation.txt', '/content/drive/MyDrive/Uottawa GP/dataset-normal/contains_tuple.txt', '/content/drive/MyDrive/Uottawa GP/dataset-normal/cmdline.txt', '/content/drive/MyDrive/Uottawa GP/dataset-normal/batching.txt', '/content/drive/MyDrive/Uottawa GP/dataset-normal/databricks_artifact_repo.txt', '/content/drive/MyDrive/Uottawa GP/dataset-normal/test_populate.txt', '/content/drive/MyDrive/Uottawa GP/dataset-normal/change_production_qty.txt', '/content/drive/MyDrive/Uottawa GP/dataset-normal/dump.txt', '/content/drive/MyDrive/Uottawa GP/dataset-normal/test_pyfunc_model_works_with_all_input_types.txt', '/content/drive/MyDrive/Uottawa GP/dataset-normal/cycloid.txt', '/content/drive/MyDrive/Uottawa GP/dataset-normal/col_subgrid.txt', '/content/drive/MyDrive/Uottawa GP/dataset-normal/test_radioselect.txt', '/content/drive/MyDrive/Uottawa GP/dataset-normal/escpos.txt', '/content/drive/MyDrive/Uottawa GP/dataset-normal/custom_references_resolver.txt', '/content/drive/MyDrive/Uottawa GP/dataset-normal/bus.txt', '/content/drive/MyDrive/Uottawa GP/dataset-normal/catalog.txt', '/content/drive/MyDrive/Uottawa GP/dataset-normal/distributed_utils.txt', '/content/drive/MyDrive/Uottawa GP/dataset-normal/databricks_cluster_context.txt', '/content/drive/MyDrive/Uottawa GP/dataset-normal/data.txt', '/content/drive/MyDrive/Uottawa GP/dataset-normal/define_predict_pack.txt', '/content/drive/MyDrive/Uottawa GP/dataset-normal/encoder_decoding_predict.txt', '/content/drive/MyDrive/Uottawa GP/dataset-normal/end_screen.txt', '/content/drive/MyDrive/Uottawa GP/dataset-normal/event_mail.txt', '/content/drive/MyDrive/Uottawa GP/dataset-normal/butterfly_curve.txt', '/content/drive/MyDrive/Uottawa GP/dataset-normal/conversion.txt', '/content/drive/MyDrive/Uottawa GP/dataset-normal/bilm.txt', '/content/drive/MyDrive/Uottawa GP/dataset-normal/convolutions.txt', '/content/drive/MyDrive/Uottawa GP/dataset-normal/ernie_dataset.txt', '/content/drive/MyDrive/Uottawa GP/dataset-normal/xmlutils.txt', '/content/drive/MyDrive/Uottawa GP/dataset-normal/wiki-search-cloud.txt', '/content/drive/MyDrive/Uottawa GP/dataset-normal/wordplay.txt', '/content/drive/MyDrive/Uottawa GP/dataset-normal/dynamic_prog.txt', '/content/drive/MyDrive/Uottawa GP/dataset-normal/citext.txt', '/content/drive/MyDrive/Uottawa GP/dataset-normal/exempted_gst_report.txt', '/content/drive/MyDrive/Uottawa GP/dataset-normal/test_qweb.txt', '/content/drive/MyDrive/Uottawa GP/dataset-normal/box_regression.txt', '/content/drive/MyDrive/Uottawa GP/dataset-normal/desc.txt', '/content/drive/MyDrive/Uottawa GP/dataset-normal/cse_confidence.txt', '/content/drive/MyDrive/Uottawa GP/dataset-normal/elmo.txt', '/content/drive/MyDrive/Uottawa GP/dataset-normal/bench_glm.txt', '/content/drive/MyDrive/Uottawa GP/dataset-normal/example.txt', '/content/drive/MyDrive/Uottawa GP/dataset-normal/driver.txt', '/content/drive/MyDrive/Uottawa GP/dataset-normal/dns_record.txt', '/content/drive/MyDrive/Uottawa GP/dataset-normal/chapter5.txt', '/content/drive/MyDrive/Uottawa GP/dataset-normal/bimo_image.txt', '/content/drive/MyDrive/Uottawa GP/dataset-normal/djangodocs.txt', '/content/drive/MyDrive/Uottawa GP/dataset-normal/win32.txt', '/content/drive/MyDrive/Uottawa GP/dataset-normal/efvgt.txt', '/content/drive/MyDrive/Uottawa GP/dataset-normal/enable_hist_gradient_boosting.txt', '/content/drive/MyDrive/Uottawa GP/dataset-normal/bert_distill.txt', '/content/drive/MyDrive/Uottawa GP/dataset-normal/experiments.txt', '/content/drive/MyDrive/Uottawa GP/dataset-normal/convert-pretrain-to-detectron2.txt', '/content/drive/MyDrive/Uottawa GP/dataset-normal/test_project_config.txt', '/content/drive/MyDrive/Uottawa GP/dataset-normal/dureader_qg.txt', '/content/drive/MyDrive/Uottawa GP/dataset-normal/bench_multilabel_metrics.txt', '/content/drive/MyDrive/Uottawa GP/dataset-normal/dumper.txt', '/content/drive/MyDrive/Uottawa GP/dataset-normal/dbshell.txt', '/content/drive/MyDrive/Uottawa GP/dataset-normal/compiler.txt', '/content/drive/MyDrive/Uottawa GP/dataset-normal/bench_covertype.txt', '/content/drive/MyDrive/Uottawa GP/dataset-normal/bell.txt', '/content/drive/MyDrive/Uottawa GP/dataset-normal/coupon.txt', '/content/drive/MyDrive/Uottawa GP/dataset-normal/test_pos_with_fiscal_position.txt', '/content/drive/MyDrive/Uottawa GP/dataset-normal/cls.txt', '/content/drive/MyDrive/Uottawa GP/dataset-normal/constant.txt', '/content/drive/MyDrive/Uottawa GP/dataset-normal/concurrent_decorator_err.txt', '/content/drive/MyDrive/Uottawa GP/dataset-normal/crypto.txt', '/content/drive/MyDrive/Uottawa GP/dataset-normal/bench_mnist.txt', '/content/drive/MyDrive/Uottawa GP/dataset-normal/discovery_v1beta1_api.txt', '/content/drive/MyDrive/Uottawa GP/dataset-normal/test_purchase_order_report.txt', '/content/drive/MyDrive/Uottawa GP/dataset-normal/dandelin.txt', '/content/drive/MyDrive/Uottawa GP/dataset-normal/event_event.txt', '/content/drive/MyDrive/Uottawa GP/dataset-normal/event_type_booth.txt', '/content/drive/MyDrive/Uottawa GP/dataset-normal/dusql_evaluation.txt', '/content/drive/MyDrive/Uottawa GP/dataset-normal/test_power.txt', '/content/drive/MyDrive/Uottawa GP/dataset-normal/batch_v1beta1_api.txt', '/content/drive/MyDrive/Uottawa GP/dataset-normal/extensions_v1beta1_ingress_spec.txt', '/content/drive/MyDrive/Uottawa GP/dataset-normal/databricks_utils.txt', '/content/drive/MyDrive/Uottawa GP/dataset-normal/coin_flipping_pi_creature.txt', '/content/drive/MyDrive/Uottawa GP/dataset-normal/css.txt', '/content/drive/MyDrive/Uottawa GP/dataset-normal/wide_resnet.txt', '/content/drive/MyDrive/Uottawa GP/dataset-normal/custom_permissions.txt', '/content/drive/MyDrive/Uottawa GP/dataset-normal/clue.txt', '/content/drive/MyDrive/Uottawa GP/dataset-normal/bert.txt', '/content/drive/MyDrive/Uottawa GP/dataset-normal/wsgi.txt', '/content/drive/MyDrive/Uottawa GP/dataset-normal/event_question.txt', '/content/drive/MyDrive/Uottawa GP/dataset-normal/decoding_sample.txt', '/content/drive/MyDrive/Uottawa GP/dataset-normal/c10.txt', '/content/drive/MyDrive/Uottawa GP/dataset-normal/cityscapes_panoptic.txt', '/content/drive/MyDrive/Uottawa GP/dataset-normal/bench_plot_parallel_pairwise.txt', '/content/drive/MyDrive/Uottawa GP/dataset-normal/configured_dynamic_settings_manage.txt', '/content/drive/MyDrive/Uottawa GP/dataset-normal/django.txt', '/content/drive/MyDrive/Uottawa GP/dataset-normal/coupon_reward.txt', '/content/drive/MyDrive/Uottawa GP/dataset-normal/chimpnsee.txt', '/content/drive/MyDrive/Uottawa GP/dataset-normal/bench_hist_gradient_boosting.txt', '/content/drive/MyDrive/Uottawa GP/dataset-normal/test_procurement_exception.txt', '/content/drive/MyDrive/Uottawa GP/dataset-normal/xml_utils.txt', '/content/drive/MyDrive/Uottawa GP/dataset-normal/dialog_reader.txt', '/content/drive/MyDrive/Uottawa GP/dataset-normal/test_predictor.txt', '/content/drive/MyDrive/Uottawa GP/dataset-normal/test_quantile.txt', '/content/drive/MyDrive/Uottawa GP/dataset-normal/d.txt', '/content/drive/MyDrive/Uottawa GP/dataset-normal/barcode_rule.txt', '/content/drive/MyDrive/Uottawa GP/dataset-normal/diffusion.txt', '/content/drive/MyDrive/Uottawa GP/dataset-normal/configuration.txt', '/content/drive/MyDrive/Uottawa GP/dataset-normal/chapter4.txt', '/content/drive/MyDrive/Uottawa GP/dataset-normal/const.txt', '/content/drive/MyDrive/Uottawa GP/dataset-normal/equivariance.txt', '/content/drive/MyDrive/Uottawa GP/dataset-normal/windows.txt', '/content/drive/MyDrive/Uottawa GP/dataset-normal/caffe2_modeling.txt', '/content/drive/MyDrive/Uottawa GP/dataset-normal/test_pos_products_with_tax.txt', '/content/drive/MyDrive/Uottawa GP/dataset-normal/borsuk_addition.txt', '/content/drive/MyDrive/Uottawa GP/dataset-normal/broken_tags.txt', '/content/drive/MyDrive/Uottawa GP/dataset-normal/bench_hist_gradient_boosting_threading.txt', '/content/drive/MyDrive/Uottawa GP/dataset-normal/block_dns_over_https.txt', '/content/drive/MyDrive/Uottawa GP/dataset-normal/test_product.txt', '/content/drive/MyDrive/Uottawa GP/dataset-normal/e.txt', '/content/drive/MyDrive/Uottawa GP/dataset-normal/binary_option.txt', '/content/drive/MyDrive/Uottawa GP/dataset-normal/d2_evaluator_adapter.txt', '/content/drive/MyDrive/Uottawa GP/dataset-normal/dataset_catalog.txt', '/content/drive/MyDrive/Uottawa GP/dataset-normal/confirm_stock_sms.txt', '/content/drive/MyDrive/Uottawa GP/dataset-normal/cut.txt', '/content/drive/MyDrive/Uottawa GP/dataset-normal/extensions_v1beta1_ingress_tls.txt', '/content/drive/MyDrive/Uottawa GP/dataset-normal/base_language_install.txt', '/content/drive/MyDrive/Uottawa GP/dataset-normal/define_paradigm.txt', '/content/drive/MyDrive/Uottawa GP/dataset-normal/cluster.txt', '/content/drive/MyDrive/Uottawa GP/dataset-normal/cityscapes_json_dataset_evaluator.txt', '/content/drive/MyDrive/Uottawa GP/dataset-normal/c48cb773bb87_reset_default_value_for_is_nan_in_metrics_table_for_mysql.txt', '/content/drive/MyDrive/Uottawa GP/dataset-normal/counting_in_binary.txt', '/content/drive/MyDrive/Uottawa GP/dataset-normal/config_ops.txt', '/content/drive/MyDrive/Uottawa GP/dataset-normal/box_head.txt', '/content/drive/MyDrive/Uottawa GP/dataset-normal/blocklist.txt', '/content/drive/MyDrive/Uottawa GP/dataset-normal/evaluation.txt', '/content/drive/MyDrive/Uottawa GP/dataset-normal/chart.txt', '/content/drive/MyDrive/Uottawa GP/dataset-normal/cba.txt', '/content/drive/MyDrive/Uottawa GP/dataset-normal/encoder.txt', '/content/drive/MyDrive/Uottawa GP/dataset-normal/test_queryset_values.txt', '/content/drive/MyDrive/Uottawa GP/dataset-normal/datasets.txt', '/content/drive/MyDrive/Uottawa GP/dataset-normal/test_ranking.txt', '/content/drive/MyDrive/Uottawa GP/dataset-normal/counting.txt', '/content/drive/MyDrive/Uottawa GP/dataset-normal/events_api.txt', '/content/drive/MyDrive/Uottawa GP/dataset-normal/test_purchase_stock_accrued_entries.txt', '/content/drive/MyDrive/Uottawa GP/dataset-normal/bus_controller.txt', '/content/drive/MyDrive/Uottawa GP/dataset-normal/engine.txt', '/content/drive/MyDrive/Uottawa GP/dataset-normal/event_lead_rule.txt', '/content/drive/MyDrive/Uottawa GP/dataset-normal/test_random.txt', '/content/drive/MyDrive/Uottawa GP/dataset-normal/chapter8.txt', '/content/drive/MyDrive/Uottawa GP/dataset-normal/exif_le.txt', '/content/drive/MyDrive/Uottawa GP/dataset-normal/densepose_coco_evaluation.txt', '/content/drive/MyDrive/Uottawa GP/dataset-normal/dusql_v2.txt', '/content/drive/MyDrive/Uottawa GP/dataset-normal/base_user.txt', '/content/drive/MyDrive/Uottawa GP/dataset-normal/bert_classification.txt', '/content/drive/MyDrive/Uottawa GP/dataset-normal/test_quant_inventory_mode.txt', '/content/drive/MyDrive/Uottawa GP/dataset-normal/equipment.txt', '/content/drive/MyDrive/Uottawa GP/dataset-normal/event_listner.txt', '/content/drive/MyDrive/Uottawa GP/dataset-normal/env.txt', '/content/drive/MyDrive/Uottawa GP/dataset-normal/breadcrumbs.txt', '/content/drive/MyDrive/Uottawa GP/dataset-normal/converter1.txt', '/content/drive/MyDrive/Uottawa GP/dataset-normal/bias_act.txt', '/content/drive/MyDrive/Uottawa GP/dataset-normal/constraints.txt', '/content/drive/MyDrive/Uottawa GP/dataset-normal/test_purchase_requisition.txt', '/content/drive/MyDrive/Uottawa GP/dataset-normal/cases.txt', '/content/drive/MyDrive/Uottawa GP/dataset-normal/composition.txt', '/content/drive/MyDrive/Uottawa GP/dataset-normal/curves.txt', '/content/drive/MyDrive/Uottawa GP/dataset-normal/copy_tutorials.txt', '/content/drive/MyDrive/Uottawa GP/dataset-normal/collect_and_distribute_fpn_rpn_proposals.txt', '/content/drive/MyDrive/Uottawa GP/dataset-normal/emr.txt', '/content/drive/MyDrive/Uottawa GP/dataset-normal/events_v1_event_series.txt', '/content/drive/MyDrive/Uottawa GP/dataset-normal/cse_with_confidence.txt', '/content/drive/MyDrive/Uottawa GP/dataset-normal/test_program_without_code_operations.txt', '/content/drive/MyDrive/Uottawa GP/dataset-normal/event_sponsor.txt', '/content/drive/MyDrive/Uottawa GP/dataset-normal/echo.txt', '/content/drive/MyDrive/Uottawa GP/dataset-normal/event.txt', '/content/drive/MyDrive/Uottawa GP/dataset-normal/convert_coco_model_to_cityscapes.txt', '/content/drive/MyDrive/Uottawa GP/dataset-normal/expression.txt', '/content/drive/MyDrive/Uottawa GP/dataset-normal/csrf_token_error_handler_urls.txt', '/content/drive/MyDrive/Uottawa GP/dataset-normal/deeplab.txt', '/content/drive/MyDrive/Uottawa GP/dataset-normal/events_v1beta1_api.txt', '/content/drive/MyDrive/Uottawa GP/dataset-normal/datetime_safe.txt', '/content/drive/MyDrive/Uottawa GP/dataset-normal/wmt14ende.txt', '/content/drive/MyDrive/Uottawa GP/dataset-normal/einsum.txt', '/content/drive/MyDrive/Uottawa GP/dataset-normal/extensions_v1beta1_ingress_status.txt', '/content/drive/MyDrive/Uottawa GP/dataset-normal/evaluate.txt', '/content/drive/MyDrive/Uottawa GP/dataset-normal/exif.txt', '/content/drive/MyDrive/Uottawa GP/dataset-normal/createsuperuser.txt', '/content/drive/MyDrive/Uottawa GP/dataset-normal/exception.txt', '/content/drive/MyDrive/Uottawa GP/dataset-normal/experiment_tag.txt', '/content/drive/MyDrive/Uottawa GP/dataset-normal/coco_evaluation.txt', '/content/drive/MyDrive/Uottawa GP/dataset-normal/test_purchase_tax_totals.txt', '/content/drive/MyDrive/Uottawa GP/dataset-normal/dataset_mapper.txt', '/content/drive/MyDrive/Uottawa GP/dataset-normal/check.txt', '/content/drive/MyDrive/Uottawa GP/dataset-normal/contentview-custom-grpc.txt', '/content/drive/MyDrive/Uottawa GP/dataset-normal/dataset_utils.txt', '/content/drive/MyDrive/Uottawa GP/dataset-normal/cache.txt', '/content/drive/MyDrive/Uottawa GP/dataset-normal/event_meeting_room.txt', '/content/drive/MyDrive/Uottawa GP/dataset-normal/event_dispatcher.txt', '/content/drive/MyDrive/Uottawa GP/dataset-normal/check_conda_env.txt', '/content/drive/MyDrive/Uottawa GP/dataset-normal/dates.txt', '/content/drive/MyDrive/Uottawa GP/dataset-normal/convert_image_to_pdf.txt', '/content/drive/MyDrive/Uottawa GP/dataset-normal/cramer.txt', '/content/drive/MyDrive/Uottawa GP/dataset-normal/test_proxyauth.txt', '/content/drive/MyDrive/Uottawa GP/dataset-normal/concurrent.txt', '/content/drive/MyDrive/Uottawa GP/dataset-normal/bench_random_projections.txt', '/content/drive/MyDrive/Uottawa GP/dataset-normal/drawing_images.txt', '/content/drive/MyDrive/Uottawa GP/dataset-normal/cibuild.txt', '/content/drive/MyDrive/Uottawa GP/dataset-normal/certificates_v1beta1_api.txt', '/content/drive/MyDrive/Uottawa GP/dataset-normal/xlnet.txt', '/content/drive/MyDrive/Uottawa GP/dataset-normal/dataset.txt', '/content/drive/MyDrive/Uottawa GP/dataset-normal/converter_urls.txt', '/content/drive/MyDrive/Uottawa GP/dataset-normal/collections.txt', '/content/drive/MyDrive/Uottawa GP/dataset-normal/bayes_footnote.txt', '/content/drive/MyDrive/Uottawa GP/dataset-normal/cail2019_scm.txt', '/content/drive/MyDrive/Uottawa GP/dataset-normal/test_project_subtasks.txt', '/content/drive/MyDrive/Uottawa GP/dataset-normal/chat_room_mixin.txt', '/content/drive/MyDrive/Uottawa GP/dataset-normal/country_utils.txt', '/content/drive/MyDrive/Uottawa GP/dataset-normal/ernie.txt', '/content/drive/MyDrive/Uottawa GP/dataset-normal/caches.txt', '/content/drive/MyDrive/Uottawa GP/dataset-normal/clientplayback.txt', '/content/drive/MyDrive/Uottawa GP/dataset-normal/evaluation_sqa.txt', '/content/drive/MyDrive/Uottawa GP/dataset-normal/duee_fin_postprocess.txt', '/content/drive/MyDrive/Uottawa GP/dataset-normal/compare.txt', '/content/drive/MyDrive/Uottawa GP/dataset-normal/ensemble.txt', '/content/drive/MyDrive/Uottawa GP/dataset-normal/download.txt', '/content/drive/MyDrive/Uottawa GP/dataset-normal/event_booth_configurator.txt', '/content/drive/MyDrive/Uottawa GP/dataset-normal/exercise_02_sentiment.txt', '/content/drive/MyDrive/Uottawa GP/dataset-normal/experiment.txt', '/content/drive/MyDrive/Uottawa GP/dataset-normal/caffe2_patch.txt', '/content/drive/MyDrive/Uottawa GP/dataset-normal/dependency_parsing_model.txt', '/content/drive/MyDrive/Uottawa GP/dataset-normal/bench_kernel_pca_solvers_time_vs_n_components.txt', '/content/drive/MyDrive/Uottawa GP/dataset-normal/deploy.txt', '/content/drive/MyDrive/Uottawa GP/dataset-normal/confirm_expiry.txt', '/content/drive/MyDrive/Uottawa GP/dataset-normal/covert_inference_model_to_serving.txt', '/content/drive/MyDrive/Uottawa GP/dataset-normal/bow.txt', '/content/drive/MyDrive/Uottawa GP/dataset-normal/cluster_scoped_custom_resource.txt', '/content/drive/MyDrive/Uottawa GP/dataset-normal/test_program_numbers.txt', '/content/drive/MyDrive/Uottawa GP/dataset-normal/enc_dec.txt', '/content/drive/MyDrive/Uottawa GP/dataset-normal/eventsequence.txt', '/content/drive/MyDrive/Uottawa GP/dataset-normal/default_related_name.txt', '/content/drive/MyDrive/Uottawa GP/dataset-normal/convert_cityscapes_to_coco.txt', '/content/drive/MyDrive/Uottawa GP/dataset-normal/calendar.txt', '/content/drive/MyDrive/Uottawa GP/dataset-normal/cmrc2018.txt', '/content/drive/MyDrive/Uottawa GP/dataset-normal/base_update_translations.txt', '/content/drive/MyDrive/Uottawa GP/dataset-normal/event_track_location.txt', '/content/drive/MyDrive/Uottawa GP/dataset-normal/densepose_data_points.txt', '/content/drive/MyDrive/Uottawa GP/dataset-normal/wrappers.txt', '/content/drive/MyDrive/Uottawa GP/dataset-normal/chart_result.txt', '/content/drive/MyDrive/Uottawa GP/dataset-normal/coordinator.txt', '/content/drive/MyDrive/Uottawa GP/dataset-normal/defaultfilters.txt', '/content/drive/MyDrive/Uottawa GP/dataset-normal/event_configurator.txt', '/content/drive/MyDrive/Uottawa GP/dataset-normal/customers.txt', '/content/drive/MyDrive/Uottawa GP/dataset-normal/dropouts.txt', '/content/drive/MyDrive/Uottawa GP/dataset-normal/with_last_login_attr.txt', '/content/drive/MyDrive/Uottawa GP/dataset-normal/exception_logger.txt', '/content/drive/MyDrive/Uottawa GP/dataset-normal/broken_tag.txt', '/content/drive/MyDrive/Uottawa GP/dataset-normal/dot_cloud.txt', '/content/drive/MyDrive/Uottawa GP/dataset-normal/collate.txt', '/content/drive/MyDrive/Uottawa GP/dataset-normal/default_context.txt', '/content/drive/MyDrive/Uottawa GP/dataset-normal/configmap.txt', '/content/drive/MyDrive/Uottawa GP/dataset-normal/employee.txt', '/content/drive/MyDrive/Uottawa GP/dataset-normal/classifier.txt', '/content/drive/MyDrive/Uottawa GP/dataset-normal/bstc.txt', '/content/drive/MyDrive/Uottawa GP/dataset-normal/chapter8p2.txt', '/content/drive/MyDrive/Uottawa GP/dataset-normal/convert_selective_search.txt', '/content/drive/MyDrive/Uottawa GP/dataset-normal/base_session.txt', '/content/drive/MyDrive/Uottawa GP/dataset-normal/databricks_pb2.txt', '/content/drive/MyDrive/Uottawa GP/dataset-normal/embed.txt', '/content/drive/MyDrive/Uottawa GP/dataset-normal/duee_1_data_prepare.txt', '/content/drive/MyDrive/Uottawa GP/dataset-normal/community.txt', '/content/drive/MyDrive/Uottawa GP/dataset-normal/test_portal_wizard.txt', '/content/drive/MyDrive/Uottawa GP/dataset-normal/chapter9.txt', '/content/drive/MyDrive/Uottawa GP/dataset-normal/embed_utils.txt', '/content/drive/MyDrive/Uottawa GP/dataset-normal/choose_delivery_carrier.txt', '/content/drive/MyDrive/Uottawa GP/dataset-normal/test_promises.txt', '/content/drive/MyDrive/Uottawa GP/dataset-normal/examples.txt', '/content/drive/MyDrive/Uottawa GP/dataset-normal/events_v1_api.txt', '/content/drive/MyDrive/Uottawa GP/dataset-normal/classifier_utils.txt', '/content/drive/MyDrive/Uottawa GP/dataset-normal/configure.txt', '/content/drive/MyDrive/Uottawa GP/dataset-normal/widgets.txt', '/content/drive/MyDrive/Uottawa GP/dataset-normal/ernie_input_encoder_v2.txt', '/content/drive/MyDrive/Uottawa GP/dataset-normal/distributed_sampler.txt', '/content/drive/MyDrive/Uottawa GP/dataset-normal/couplet.txt', '/content/drive/MyDrive/Uottawa GP/dataset-normal/densepose_checkpoint.txt', '/content/drive/MyDrive/Uottawa GP/dataset-normal/crm_iap_lead_helpers.txt', '/content/drive/MyDrive/Uottawa GP/dataset-normal/test_purchase_matrix.txt', '/content/drive/MyDrive/Uottawa GP/dataset-normal/command.txt', '/content/drive/MyDrive/Uottawa GP/dataset-normal/coupon_program.txt', '/content/drive/MyDrive/Uottawa GP/dataset-normal/test_portal_attachment.txt', '/content/drive/MyDrive/Uottawa GP/dataset-normal/cookies.txt', '/content/drive/MyDrive/Uottawa GP/dataset-normal/export_model.txt', '/content/drive/MyDrive/Uottawa GP/dataset-normal/xkcd_dowloader.txt', '/content/drive/MyDrive/Uottawa GP/dataset-normal/test_ptr.txt', '/content/drive/MyDrive/Uottawa GP/dataset-normal/combinatorics.txt', '/content/drive/MyDrive/Uottawa GP/dataset-normal/bench_lof.txt', '/content/drive/MyDrive/Uottawa GP/dataset-normal/data_utils.txt', '/content/drive/MyDrive/Uottawa GP/dataset-normal/block_for_quanta.txt', '/content/drive/MyDrive/Uottawa GP/dataset-normal/database.txt', '/content/drive/MyDrive/Uottawa GP/dataset-normal/crm_iap_lead_seniority.txt', '/content/drive/MyDrive/Uottawa GP/dataset-normal/calendar_alarm.txt', '/content/drive/MyDrive/Uottawa GP/dataset-normal/extensions_api.txt', '/content/drive/MyDrive/Uottawa GP/dataset-normal/base_tests.txt', '/content/drive/MyDrive/Uottawa GP/dataset-normal/clearsessions.txt', '/content/drive/MyDrive/Uottawa GP/dataset-normal/batch_sampler.txt', '/content/drive/MyDrive/Uottawa GP/dataset-normal/test_purchase_mrp_flow.txt', '/content/drive/MyDrive/Uottawa GP/dataset-normal/entire_brick_wall.txt', '/content/drive/MyDrive/Uottawa GP/dataset-normal/barcode_events_mixin.txt', '/content/drive/MyDrive/Uottawa GP/dataset-normal/example_scenes.txt', '/content/drive/MyDrive/Uottawa GP/dataset-normal/Convert.txt', '/content/drive/MyDrive/Uottawa GP/dataset-normal/expressions.txt', '/content/drive/MyDrive/Uottawa GP/dataset-normal/test_postgresql.txt', '/content/drive/MyDrive/Uottawa GP/dataset-normal/ddl_references.txt', '/content/drive/MyDrive/Uottawa GP/dataset-normal/calculate.txt', '/content/drive/MyDrive/Uottawa GP/dataset-normal/dependency_parsing.txt', '/content/drive/MyDrive/Uottawa GP/dataset-normal/coco.txt', '/content/drive/MyDrive/Uottawa GP/dataset-normal/data_loader_benchmark.txt', '/content/drive/MyDrive/Uottawa GP/dataset-normal/crm_forward_to_partner.txt', '/content/drive/MyDrive/Uottawa GP/dataset-normal/test_purchase_order_process.txt', '/content/drive/MyDrive/Uottawa GP/dataset-normal/chapter0.txt', '/content/drive/MyDrive/Uottawa GP/dataset-normal/cloc.txt', '/content/drive/MyDrive/Uottawa GP/dataset-normal/collect_env.txt', '/content/drive/MyDrive/Uottawa GP/dataset-normal/dispatcher.txt', '/content/drive/MyDrive/Uottawa GP/dataset-normal/databricks.txt', '/content/drive/MyDrive/Uottawa GP/dataset-normal/dumpdata.txt', '/content/drive/MyDrive/Uottawa GP/dataset-normal/event_booth_category.txt', '/content/drive/MyDrive/Uottawa GP/dataset-normal/bench_plot_ward.txt', '/content/drive/MyDrive/Uottawa GP/dataset-normal/with_custom_email_field.txt', '/content/drive/MyDrive/Uottawa GP/dataset-normal/df50e92ffc5e_add_experiment_tags_table.txt', '/content/drive/MyDrive/Uottawa GP/dataset-normal/event_tag.txt', '/content/drive/MyDrive/Uottawa GP/dataset-normal/crm_opportunity_to_quotation.txt', '/content/drive/MyDrive/Uottawa GP/dataset-normal/chart_with_confidence.txt', '/content/drive/MyDrive/Uottawa GP/dataset-normal/bench_glmnet.txt', '/content/drive/MyDrive/Uottawa GP/dataset-normal/exif_be.txt', '/content/drive/MyDrive/Uottawa GP/dataset-normal/bleu.txt', '/content/drive/MyDrive/Uottawa GP/dataset-normal/common.txt', '/content/drive/MyDrive/Uottawa GP/dataset-normal/decimal_precision.txt', '/content/drive/MyDrive/Uottawa GP/dataset-normal/dumperview.txt', '/content/drive/MyDrive/Uottawa GP/dataset-normal/calendar_filter.txt', '/content/drive/MyDrive/Uottawa GP/dataset-normal/coupon_generate.txt', '/content/drive/MyDrive/Uottawa GP/dataset-normal/build_mrda_dataset.txt', '/content/drive/MyDrive/Uottawa GP/dataset-normal/crm_stage.txt', '/content/drive/MyDrive/Uottawa GP/dataset-normal/beta2.txt', '/content/drive/MyDrive/Uottawa GP/dataset-normal/conv2d_resample.txt', '/content/drive/MyDrive/Uottawa GP/dataset-normal/calendar_alarm_manager.txt', '/content/drive/MyDrive/Uottawa GP/dataset-normal/duplicate-modify-replay.txt', '/content/drive/MyDrive/Uottawa GP/dataset-normal/base_stack.txt', '/content/drive/MyDrive/Uottawa GP/dataset-normal/check_pxd_in_installation.txt', '/content/drive/MyDrive/Uottawa GP/dataset-normal/entities.txt', '/content/drive/MyDrive/Uottawa GP/dataset-normal/wiki_random.txt', '/content/drive/MyDrive/Uottawa GP/dataset-normal/converter.txt', '/content/drive/MyDrive/Uottawa GP/dataset-normal/event_tag_category.txt', '/content/drive/MyDrive/Uottawa GP/dataset-normal/common2.txt', '/content/drive/MyDrive/Uottawa GP/dataset-normal/bench_plot_lasso_path.txt', '/content/drive/MyDrive/Uottawa GP/dataset-normal/test_project_billing_multicompany.txt', '/content/drive/MyDrive/Uottawa GP/dataset-normal/case_from_email.txt', '/content/drive/MyDrive/Uottawa GP/dataset-normal/cli_args.txt', '/content/drive/MyDrive/Uottawa GP/dataset-normal/test_pylint.txt', '/content/drive/MyDrive/Uottawa GP/dataset-normal/example_pb2.txt', '/content/drive/MyDrive/Uottawa GP/dataset-normal/build_atis_dataset.txt', '/content/drive/MyDrive/Uottawa GP/dataset-normal/coco_schedule.txt', '/content/drive/MyDrive/Uottawa GP/dataset-normal/battery.txt', '/content/drive/MyDrive/Uottawa GP/dataset-normal/densepose_uniform.txt', '/content/drive/MyDrive/Uottawa GP/dataset-normal/cond_get_urls.txt', '/content/drive/MyDrive/Uottawa GP/dataset-normal/databricks_artifacts_pb2.txt', '/content/drive/MyDrive/Uottawa GP/dataset-normal/bench_hist_gradient_boosting_categorical_only.txt', '/content/drive/MyDrive/Uottawa GP/dataset-normal/consoleaddons.txt', '/content/drive/MyDrive/Uottawa GP/dataset-normal/test_purchase_stock_report.txt', '/content/drive/MyDrive/Uottawa GP/dataset-normal/databricks_job_context.txt', '/content/drive/MyDrive/Uottawa GP/dataset-normal/core_v1_event.txt', '/content/drive/MyDrive/Uottawa GP/dataset-normal/changing.txt', '/content/drive/MyDrive/Uottawa GP/dataset-normal/dance.txt', '/content/drive/MyDrive/Uottawa GP/dataset-normal/connection_manager.txt', '/content/drive/MyDrive/Uottawa GP/dataset-normal/test_pyspark_ml_autologging_custom_allowlist.txt', '/content/drive/MyDrive/Uottawa GP/dataset-normal/drawings.txt', '/content/drive/MyDrive/Uottawa GP/dataset-normal/databricks_request_header_provider.txt', '/content/drive/MyDrive/Uottawa GP/dataset-normal/deployment_crud.txt', '/content/drive/MyDrive/Uottawa GP/dataset-normal/controller.txt', '/content/drive/MyDrive/Uottawa GP/dataset-normal/detector.txt', '/content/drive/MyDrive/Uottawa GP/dataset-normal/test_pos_simple_invoiced_orders.txt', '/content/drive/MyDrive/Uottawa GP/dataset-normal/debugger.txt', '/content/drive/MyDrive/Uottawa GP/dataset-normal/event_manager.txt', '/content/drive/MyDrive/Uottawa GP/dataset-normal/test_ranges.txt', '/content/drive/MyDrive/Uottawa GP/dataset-normal/cote.txt', '/content/drive/MyDrive/Uottawa GP/dataset-normal/deconstruct.txt', '/content/drive/MyDrive/Uottawa GP/dataset-normal/cnn.txt', '/content/drive/MyDrive/Uottawa GP/dataset-normal/bq_corpus.txt', '/content/drive/MyDrive/Uottawa GP/dataset-normal/decoder.txt', '/content/drive/MyDrive/Uottawa GP/dataset-normal/encoder_decoding_sample.txt', '/content/drive/MyDrive/Uottawa GP/dataset-normal/conda.txt', '/content/drive/MyDrive/Uottawa GP/dataset-normal/test_protobuf.txt', '/content/drive/MyDrive/Uottawa GP/dataset-normal/xgboost.txt', '/content/drive/MyDrive/Uottawa GP/dataset-normal/download_data_win.txt', '/content/drive/MyDrive/Uottawa GP/dataset-normal/with_integer_username.txt', '/content/drive/MyDrive/Uottawa GP/dataset-normal/customadmin.txt', '/content/drive/MyDrive/Uottawa GP/dataset-normal/event_sponsor_type.txt', '/content/drive/MyDrive/Uottawa GP/dataset-normal/db_types.txt', '/content/drive/MyDrive/Uottawa GP/dataset-normal/commands-paths.txt', '/content/drive/MyDrive/Uottawa GP/dataset-normal/datastructures.txt', '/content/drive/MyDrive/Uottawa GP/dataset-normal/crm_reveal_view.txt', '/content/drive/MyDrive/Uottawa GP/dataset-normal/comm.txt', '/content/drive/MyDrive/Uottawa GP/dataset-normal/deployment_rolling_restart.txt', '/content/drive/MyDrive/Uottawa GP/dataset-normal/crm_lead_pls_update.txt', '/content/drive/MyDrive/Uottawa GP/dataset-normal/dummy_datasets.txt', '/content/drive/MyDrive/Uottawa GP/dataset-normal/test_query.txt', '/content/drive/MyDrive/Uottawa GP/dataset-normal/delivery_carrier.txt', '/content/drive/MyDrive/Uottawa GP/dataset-normal/eulers_characteristic_formula.txt', '/content/drive/MyDrive/Uottawa GP/dataset-normal/databricks_command_context.txt', '/content/drive/MyDrive/Uottawa GP/dataset-normal/covid.txt', '/content/drive/MyDrive/Uottawa GP/dataset-normal/WindingNumber_G.txt', '/content/drive/MyDrive/Uottawa GP/dataset-normal/test_purchase_delete_order.txt', '/content/drive/MyDrive/Uottawa GP/dataset-normal/duration.txt', '/content/drive/MyDrive/Uottawa GP/dataset-normal/bench_text_vectorizers.txt', '/content/drive/MyDrive/Uottawa GP/dataset-normal/duplicatefileremover.txt', '/content/drive/MyDrive/Uottawa GP/dataset-normal/dureader_checklist.txt', '/content/drive/MyDrive/Uottawa GP/dataset-normal/test_purchase_subcontracting.txt', '/content/drive/MyDrive/Uottawa GP/dataset-normal/beginning_with_slash.txt', '/content/drive/MyDrive/Uottawa GP/dataset-normal/test_purchase_invoice.txt', '/content/drive/MyDrive/Uottawa GP/dataset-normal/confusion_matrix.txt', '/content/drive/MyDrive/Uottawa GP/dataset-normal/dir1_a.txt', '/content/drive/MyDrive/Uottawa GP/dataset-normal/calendar_event_type.txt', '/content/drive/MyDrive/Uottawa GP/dataset-normal/explainer_logging.txt', '/content/drive/MyDrive/Uottawa GP/dataset-normal/concurrent_decorator_class.txt', '/content/drive/MyDrive/Uottawa GP/dataset-normal/chapter11.txt', '/content/drive/MyDrive/Uottawa GP/dataset-normal/densenet.txt', '/content/drive/MyDrive/Uottawa GP/dataset-normal/test_program_multi_company.txt', '/content/drive/MyDrive/Uottawa GP/dataset-normal/bench_saga.txt', '/content/drive/MyDrive/Uottawa GP/dataset-normal/convert_pkl_to_pb.txt', '/content/drive/MyDrive/Uottawa GP/dataset-normal/conv2d_gradfix.txt', '/content/drive/MyDrive/Uottawa GP/dataset-normal/eventlog.txt', '/content/drive/MyDrive/Uottawa GP/dataset-normal/crm_partner_report.txt', '/content/drive/MyDrive/Uottawa GP/dataset-normal/enums.txt', '/content/drive/MyDrive/Uottawa GP/dataset-normal/crm_recurring_plan.txt', '/content/drive/MyDrive/Uottawa GP/dataset-normal/crm_client.txt', '/content/drive/MyDrive/Uottawa GP/dataset-normal/converter_terminal.txt', '/content/drive/MyDrive/Uottawa GP/dataset-normal/comparison.txt', '/content/drive/MyDrive/Uottawa GP/dataset-normal/extract_zip_files.txt', '/content/drive/MyDrive/Uottawa GP/dataset-normal/cookie.txt', '/content/drive/MyDrive/Uottawa GP/dataset-normal/event_track_visitor.txt', '/content/drive/MyDrive/Uottawa GP/dataset-normal/create_from_yaml.txt', '/content/drive/MyDrive/Uottawa GP/dataset-normal/event_ticket.txt', '/content/drive/MyDrive/Uottawa GP/dataset-normal/encrypt.txt', '/content/drive/MyDrive/Uottawa GP/dataset-normal/brick_row.txt', '/content/drive/MyDrive/Uottawa GP/dataset-normal/xss_scanner.txt', '/content/drive/MyDrive/Uottawa GP/dataset-normal/benchmark.txt', '/content/drive/MyDrive/Uottawa GP/dataset-normal/wizard_tax_adjustments.txt', '/content/drive/MyDrive/Uottawa GP/dataset-normal/context_processors.txt', '/content/drive/MyDrive/Uottawa GP/dataset-normal/chunk.txt', '/content/drive/MyDrive/Uottawa GP/dataset-normal/dummy_backend.txt', '/content/drive/MyDrive/Uottawa GP/dataset-normal/core_api.txt', '/content/drive/MyDrive/Uottawa GP/dataset-normal/test_projects.txt', '/content/drive/MyDrive/Uottawa GP/dataset-normal/event_track_quiz.txt', '/content/drive/MyDrive/Uottawa GP/dataset-normal/chart_output_to_chart_result.txt', '/content/drive/MyDrive/Uottawa GP/dataset-normal/configured_settings_manage.txt', '/content/drive/MyDrive/Uottawa GP/dataset-normal/datetime.txt', '/content/drive/MyDrive/Uottawa GP/dataset-normal/test_q.txt', '/content/drive/MyDrive/Uottawa GP/dataset-normal/envelope.txt', '/content/drive/MyDrive/Uottawa GP/dataset-normal/wikicorpus.txt', '/content/drive/MyDrive/Uottawa GP/dataset-normal/bench_online_ocsvm.txt', '/content/drive/MyDrive/Uottawa GP/dataset-normal/collectstatic.txt', '/content/drive/MyDrive/Uottawa GP/dataset-normal/densepose_results_textures.txt', '/content/drive/MyDrive/Uottawa GP/dataset-normal/detail.txt', '/content/drive/MyDrive/Uottawa GP/dataset-normal/decorators.txt', '/content/drive/MyDrive/Uottawa GP/dataset-normal/custom_objects_api.txt', '/content/drive/MyDrive/Uottawa GP/dataset-normal/dump_schema.txt', '/content/drive/MyDrive/Uottawa GP/dataset-normal/crm_team_member.txt', '/content/drive/MyDrive/Uottawa GP/dataset-normal/base_geocoder.txt', '/content/drive/MyDrive/Uottawa GP/dataset-normal/coco_keypoint.txt', '/content/drive/MyDrive/Uottawa GP/dataset-normal/cloudwatch.txt', '/content/drive/MyDrive/Uottawa GP/dataset-normal/db.txt', '/content/drive/MyDrive/Uottawa GP/dataset-normal/crm_tag.txt', '/content/drive/MyDrive/Uottawa GP/dataset-normal/build.txt', '/content/drive/MyDrive/Uottawa GP/dataset-normal/chat_room.txt', '/content/drive/MyDrive/Uottawa GP/dataset-normal/dep.txt', '/content/drive/MyDrive/Uottawa GP/dataset-normal/color.txt', '/content/drive/MyDrive/Uottawa GP/dataset-normal/dureader_yesno.txt', '/content/drive/MyDrive/Uottawa GP/dataset-normal/extra_urls.txt', '/content/drive/MyDrive/Uottawa GP/dataset-normal/extract_scene.txt', '/content/drive/MyDrive/Uottawa GP/dataset-normal/chapter6.txt', '/content/drive/MyDrive/Uottawa GP/dataset-normal/test_prefetch_related_objects.txt', '/content/drive/MyDrive/Uottawa GP/dataset-normal/docker_tracking_test.txt', '/content/drive/MyDrive/Uottawa GP/dataset-normal/datev.txt', '/content/drive/MyDrive/Uottawa GP/dataset-normal/coordination_v1_api.txt', '/content/drive/MyDrive/Uottawa GP/dataset-normal/coupon_rules.txt', '/content/drive/MyDrive/Uottawa GP/dataset-normal/edit.txt', '/content/drive/MyDrive/Uottawa GP/dataset-normal/combinations.txt', '/content/drive/MyDrive/Uottawa GP/dataset-normal/birthday.txt', '/content/drive/MyDrive/Uottawa GP/dataset-normal/end.txt', '/content/drive/MyDrive/Uottawa GP/dataset-normal/base_command.txt', '/content/drive/MyDrive/Uottawa GP/dataset-normal/deployment_create.txt', '/content/drive/MyDrive/Uottawa GP/dataset-normal/densepose_cse_base.txt', '/content/drive/MyDrive/Uottawa GP/dataset-normal/bar.txt', '/content/drive/MyDrive/Uottawa GP/dataset-normal/dataset_type.txt', '/content/drive/MyDrive/Uottawa GP/dataset-normal/test_purchase_lead_time.txt', '/content/drive/MyDrive/Uottawa GP/dataset-normal/c3.txt', '/content/drive/MyDrive/Uottawa GP/dataset-normal/dateformat.txt', '/content/drive/MyDrive/Uottawa GP/dataset-normal/commander.txt', '/content/drive/MyDrive/Uottawa GP/dataset-normal/calendar_attendee.txt', '/content/drive/MyDrive/Uottawa GP/dataset-normal/bookcorpus.txt', '/content/drive/MyDrive/Uottawa GP/dataset-normal/cnn_dailymail.txt', '/content/drive/MyDrive/Uottawa GP/dataset-normal/xml_serializer.txt', '/content/drive/MyDrive/Uottawa GP/dataset-normal/crm_lost_reason.txt', '/content/drive/MyDrive/Uottawa GP/dataset-normal/colormap.txt', '/content/drive/MyDrive/Uottawa GP/dataset-normal/dice.txt', '/content/drive/MyDrive/Uottawa GP/dataset-normal/callback.txt', '/content/drive/MyDrive/Uottawa GP/dataset-normal/batch_v2alpha1_api.txt', '/content/drive/MyDrive/Uottawa GP/dataset-normal/densepose_cse_uniform.txt', '/content/drive/MyDrive/Uottawa GP/dataset-normal/test_pos_basic_config.txt', '/content/drive/MyDrive/Uottawa GP/dataset-normal/basehttp.txt', '/content/drive/MyDrive/Uottawa GP/dataset-normal/calendar_recurrence.txt', '/content/drive/MyDrive/Uottawa GP/dataset-normal/bench_plot_omp_lars.txt', '/content/drive/MyDrive/Uottawa GP/dataset-normal/criterion.txt', '/content/drive/MyDrive/Uottawa GP/dataset-normal/test_project_spec.txt', '/content/drive/MyDrive/Uottawa GP/dataset-normal/decoder_sample.txt', '/content/drive/MyDrive/Uottawa GP/dataset-normal/brick_row_scene.txt', '/content/drive/MyDrive/Uottawa GP/dataset-normal/test_purchase_requisition_stock.txt', '/content/drive/MyDrive/Uottawa GP/dataset-normal/encoder_decoder_sample.txt', '/content/drive/MyDrive/Uottawa GP/dataset-normal/chart_confidence.txt', '/content/drive/MyDrive/Uottawa GP/dataset-normal/test_project_ui.txt', '/content/drive/MyDrive/Uottawa GP/dataset-normal/col_viewany.txt', '/content/drive/MyDrive/Uottawa GP/dataset-normal/build_solver.txt', '/content/drive/MyDrive/Uottawa GP/dataset-normal/test_questioner.txt', '/content/drive/MyDrive/Uottawa GP/dataset-normal/baseconv.txt', '/content/drive/MyDrive/Uottawa GP/dataset-normal/dir1_b.txt', '/content/drive/MyDrive/Uottawa GP/dataset-normal/dummy.txt', '/content/drive/MyDrive/Uottawa GP/dataset-normal/event_booth_registration.txt', '/content/drive/MyDrive/Uottawa GP/dataset-normal/dense_detector.txt', '/content/drive/MyDrive/Uottawa GP/dataset-normal/densepose_confidence_based.txt', '/content/drive/MyDrive/Uottawa GP/dataset-normal/base_partner_merge_automatic_wizard.txt', '/content/drive/MyDrive/Uottawa GP/dataset-normal/data_augmentation.txt', '/content/drive/MyDrive/Uottawa GP/dataset-normal/events_v1_event_list.txt', '/content/drive/MyDrive/Uottawa GP/dataset-normal/comment.txt', '/content/drive/MyDrive/Uottawa GP/dataset-normal/coordinate_systems.txt', '/content/drive/MyDrive/Uottawa GP/dataset-normal/base_import_module.txt', '/content/drive/MyDrive/Uottawa GP/dataset-normal/dureader.txt', '/content/drive/MyDrive/Uottawa GP/dataset-normal/ddt.txt', '/content/drive/MyDrive/Uottawa GP/dataset-normal/empty.txt', '/content/drive/MyDrive/Uottawa GP/dataset-normal/combined_loader.txt', '/content/drive/MyDrive/Uottawa GP/dataset-normal/check_wheels.txt', '/content/drive/MyDrive/Uottawa GP/dataset-normal/caffe2_export.txt', '/content/drive/MyDrive/Uottawa GP/dataset-normal/databases_stack.txt', '/content/drive/MyDrive/Uottawa GP/dataset-normal/ernie_reader.txt', '/content/drive/MyDrive/Uottawa GP/dataset-normal/coordination_api.txt', '/content/drive/MyDrive/Uottawa GP/dataset-normal/calibration.txt', '/content/drive/MyDrive/Uottawa GP/dataset-normal/base_partner_merge.txt', '/content/drive/MyDrive/Uottawa GP/dataset-normal/test_prophet_model_export.txt', '/content/drive/MyDrive/Uottawa GP/dataset-normal/decode.txt', '/content/drive/MyDrive/Uottawa GP/dataset-normal/beginning_with_caret.txt', '/content/drive/MyDrive/Uottawa GP/dataset-normal/event_type.txt', '/content/drive/MyDrive/Uottawa GP/dataset-normal/createcachetable.txt', '/content/drive/MyDrive/Uottawa GP/dataset-normal/event_stage.txt', '/content/drive/MyDrive/Uottawa GP/dataset-normal/dateparse.txt', '/content/drive/MyDrive/Uottawa GP/dataset-normal/export_serving_model.txt', '/content/drive/MyDrive/Uottawa GP/dataset-normal/test_project_billing.txt', '/content/drive/MyDrive/Uottawa GP/dataset-normal/test_pos_other_currency_config.txt', '/content/drive/MyDrive/Uottawa GP/dataset-normal/commandexecutor.txt', '/content/drive/MyDrive/Uottawa GP/dataset-normal/ctracing.txt', '/content/drive/MyDrive/Uottawa GP/dataset-normal/bench_sgd_regression.txt', '/content/drive/MyDrive/Uottawa GP/dataset-normal/convert_params.txt', '/content/drive/MyDrive/Uottawa GP/dataset-normal/databricks_models_artifact_repo.txt', '/content/drive/MyDrive/Uottawa GP/dataset-normal/check_connectivity.txt', '/content/drive/MyDrive/Uottawa GP/dataset-normal/eval_accuracy.txt', '/content/drive/MyDrive/Uottawa GP/dataset-normal/debugtags.txt', '/content/drive/MyDrive/Uottawa GP/dataset-normal/extractor.txt', '/content/drive/MyDrive/Uottawa GP/dataset-normal/wsgi_server.txt', '/content/drive/MyDrive/Uottawa GP/dataset-normal/ws_logger.txt', '/content/drive/MyDrive/Uottawa GP/dataset-normal/cached.txt', '/content/drive/MyDrive/Uottawa GP/dataset-normal/densepose_results.txt', '/content/drive/MyDrive/Uottawa GP/dataset-normal/test_precision_recall_display.txt', '/content/drive/MyDrive/Uottawa GP/dataset-normal/test_project_flow.txt', '/content/drive/MyDrive/Uottawa GP/dataset-normal/word_segmentation.txt', '/content/drive/MyDrive/Uottawa GP/dataset-normal/cli.txt', '/content/drive/MyDrive/Uottawa GP/dataset-normal/defaulttags.txt', '/content/drive/MyDrive/Uottawa GP/dataset-normal/builtin_meta.txt', '/content/drive/MyDrive/Uottawa GP/dataset-normal/densepose_outputs_vertex.txt', '/content/drive/MyDrive/Uottawa GP/dataset-normal/chapter7.txt', '/content/drive/MyDrive/Uottawa GP/dataset-normal/event_track.txt', '/content/drive/MyDrive/Uottawa GP/dataset-normal/barcode.txt', '/content/drive/MyDrive/Uottawa GP/dataset-normal/delivery.txt', '/content/drive/MyDrive/Uottawa GP/dataset-normal/word2vec_base.txt', '/content/drive/MyDrive/Uottawa GP/dataset-normal/decomposition.txt', '/content/drive/MyDrive/Uottawa GP/dataset-normal/WindingNumber.txt', '/content/drive/MyDrive/Uottawa GP/dataset-normal/test_qweb_float.txt', '/content/drive/MyDrive/Uottawa GP/dataset-normal/test_project_base.txt', '/content/drive/MyDrive/Uottawa GP/dataset-normal/diffsettings.txt', '/content/drive/MyDrive/Uottawa GP/dataset-normal/events.txt', '/content/drive/MyDrive/Uottawa GP/dataset-normal/test_pytorch_model_export.txt', '/content/drive/MyDrive/Uottawa GP/dataset-normal/crm_iap_lead_industry.txt', '/content/drive/MyDrive/Uottawa GP/dataset-normal/common_test.txt', '/content/drive/MyDrive/Uottawa GP/dataset-normal/drcd.txt', '/content/drive/MyDrive/Uottawa GP/dataset-normal/custombackend.txt', '/content/drive/MyDrive/Uottawa GP/dataset-normal/test_project_update.txt', '/content/drive/MyDrive/Uottawa GP/dataset-normal/change_sgml_to_txt.txt', '/content/drive/MyDrive/Uottawa GP/dataset-normal/test_pprint.txt', '/content/drive/MyDrive/Uottawa GP/dataset-normal/wordy_scenes.txt', '/content/drive/MyDrive/Uottawa GP/dataset-normal/barcode_nomenclature.txt', '/content/drive/MyDrive/Uottawa GP/dataset-normal/base_module_upgrade.txt', '/content/drive/MyDrive/Uottawa GP/dataset-normal/cached_db.txt', '/content/drive/MyDrive/Uottawa GP/dataset-normal/compilemessages.txt', '/content/drive/MyDrive/Uottawa GP/dataset-normal/bits.txt', '/content/drive/MyDrive/Uottawa GP/dataset-normal/test_project_update_ui.txt', '/content/drive/MyDrive/Uottawa GP/dataset-normal/enable_iterative_imputer.txt', '/content/drive/MyDrive/Uottawa GP/dataset-normal/test_pytorch_autolog.txt', '/content/drive/MyDrive/Uottawa GP/dataset-normal/bench_plot_randomized_svd.txt', '/content/drive/MyDrive/Uottawa GP/dataset-normal/brace.txt', '/content/drive/MyDrive/Uottawa GP/dataset-normal/zipfiles.txt', '/content/drive/MyDrive/Uottawa GP/dataset-normal/customization.txt', '/content/drive/MyDrive/Uottawa GP/dataset-normal/core_v1_event_series.txt', '/content/drive/MyDrive/Uottawa GP/dataset-normal/erroneous_urls.txt', '/content/drive/MyDrive/Uottawa GP/dataset-normal/disable_h2c.txt', '/content/drive/MyDrive/Uottawa GP/dataset-normal/extensions_v1beta1_http_ingress_path.txt', '/content/drive/MyDrive/Uottawa GP/dataset-normal/wikipedia_principal_eigenvector.txt', '/content/drive/MyDrive/Uottawa GP/dataset-normal/borsuk.txt', '/content/drive/MyDrive/Uottawa GP/dataset-normal/docker_utils.txt', '/content/drive/MyDrive/Uottawa GP/dataset-normal/bounding_box.txt', '/content/drive/MyDrive/Uottawa GP/dataset-normal/eventstore.txt', '/content/drive/MyDrive/Uottawa GP/dataset-normal/camera.txt', '/content/drive/MyDrive/Uottawa GP/dataset-normal/company.txt', '/content/drive/MyDrive/Uottawa GP/dataset-normal/crm_merge_opportunities.txt', '/content/drive/MyDrive/Uottawa GP/dataset-normal/debug.txt', '/content/drive/MyDrive/Uottawa GP/dataset-normal/binning.txt', '/content/drive/MyDrive/Uottawa GP/dataset-normal/encode.txt', '/content/drive/MyDrive/Uottawa GP/dataset-normal/extensions_v1beta1_http_ingress_rule_value.txt', '/content/drive/MyDrive/Uottawa GP/dataset-normal/test_qs_combinators.txt', '/content/drive/MyDrive/Uottawa GP/dataset-normal/cse.txt', '/content/drive/MyDrive/Uottawa GP/dataset-normal/chess.txt', '/content/drive/MyDrive/Uottawa GP/dataset-normal/conv.txt', '/content/drive/MyDrive/Uottawa GP/dataset-normal/test_proxyserver.txt', '/content/drive/MyDrive/Uottawa GP/dataset-normal/basel.txt', '/content/drive/MyDrive/Uottawa GP/dataset-normal/complex_transformation_scene.txt', '/content/drive/MyDrive/Uottawa GP/dataset-normal/dbfs_artifact_repo.txt', '/content/drive/MyDrive/Uottawa GP/dataset-normal/extensions_v1beta1_ingress_rule.txt', '/content/drive/MyDrive/Uottawa GP/dataset-normal/base_automation.txt', '/content/drive/MyDrive/Uottawa GP/dataset-normal/bench_isotonic.txt', '/content/drive/MyDrive/Uottawa GP/dataset-normal/base_unit.txt', '/content/drive/MyDrive/Uottawa GP/dataset-normal/densepose_base.txt', '/content/drive/MyDrive/Uottawa GP/dataset-normal/coordination_v1beta1_api.txt', '/content/drive/MyDrive/Uottawa GP/dataset-normal/birthDateToCurrentAge.txt', '/content/drive/MyDrive/Uottawa GP/dataset-normal/discuss.txt', '/content/drive/MyDrive/Uottawa GP/dataset-normal/test_proxyauth_selenium.txt', '/content/drive/MyDrive/Uottawa GP/dataset-normal/data_relative.txt', '/content/drive/MyDrive/Uottawa GP/dataset-normal/coordseq.txt', '/content/drive/MyDrive/Uottawa GP/dataset-normal/base_sql_model.txt', '/content/drive/MyDrive/Uottawa GP/dataset-normal/challenge.txt', '/content/drive/MyDrive/Uottawa GP/dataset-normal/chart_with_confidences.txt', '/content/drive/MyDrive/Uottawa GP/dataset-normal/ds.txt', '/content/drive/MyDrive/Uottawa GP/dataset-normal/date_utils.txt', '/content/drive/MyDrive/Uottawa GP/dataset-normal/test_pyfunc.txt', '/content/drive/MyDrive/Uottawa GP/dataset-normal/densepose_cse_confidence_based.txt', '/content/drive/MyDrive/Uottawa GP/dataset-normal/change_upstream_proxy.txt', '/content/drive/MyDrive/Uottawa GP/dataset-normal/cityscapes.txt', '/content/drive/MyDrive/Uottawa GP/dataset-normal/checks.txt', '/content/drive/MyDrive/Uottawa GP/dataset-normal/converter_GUI.txt', '/content/drive/MyDrive/Uottawa GP/dataset-normal/with_many_to_many.txt', '/content/drive/MyDrive/Uottawa GP/dataset-normal/disabled.txt', '/content/drive/MyDrive/Uottawa GP/dataset-normal/digest_tip.txt', '/content/drive/MyDrive/Uottawa GP/dataset-normal/test_pos_margin.txt', '/content/drive/MyDrive/Uottawa GP/dataset-normal/event_track_tag_category.txt', '/content/drive/MyDrive/Uottawa GP/dataset-normal/test_project_update_flow.txt', '/content/drive/MyDrive/Uottawa GP/dataset-normal/dump_graph.txt', '/content/drive/MyDrive/Uottawa GP/dataset-normal/boundfield.txt', '/content/drive/MyDrive/Uottawa GP/dataset-normal/chapter2.txt', '/content/drive/MyDrive/Uottawa GP/dataset-normal/test_purchase_requisition_stock_dropshipping.txt', '/content/drive/MyDrive/Uottawa GP/dataset-normal/bench_sample_without_replacement.txt', '/content/drive/MyDrive/Uottawa GP/dataset-normal/batch_api.txt', '/content/drive/MyDrive/Uottawa GP/dataset-normal/block_collision_scenes.txt', '/content/drive/MyDrive/Uottawa GP/dataset-normal/chapter3.txt', '/content/drive/MyDrive/Uottawa GP/dataset-normal/dft.txt', '/content/drive/MyDrive/Uottawa GP/dataset-normal/chapter1.txt', '/content/drive/MyDrive/Uottawa GP/dataset-normal/col_bytes.txt', '/content/drive/MyDrive/Uottawa GP/dataset-normal/cycle_pix2shape.txt', '/content/drive/MyDrive/Uottawa GP/dataset-normal/bench_plot_hierarchical.txt', '/content/drive/MyDrive/Uottawa GP/dataset-normal/coco_to_cityscapes_id.txt', '/content/drive/MyDrive/Uottawa GP/dataset-normal/default.txt', '/content/drive/MyDrive/Uottawa GP/dataset-normal/ext_utils.txt', '/content/drive/MyDrive/Uottawa GP/dataset-normal/Copy of argparser (2).txt', '/content/drive/MyDrive/Uottawa GP/dataset-normal/Copy of barcode_events_mixin (2).txt', '/content/drive/MyDrive/Uottawa GP/dataset-normal/Copy of 54 (2).txt', '/content/drive/MyDrive/Uottawa GP/dataset-normal/Copy of argtypes (2).txt', '/content/drive/MyDrive/Uottawa GP/dataset-normal/Copy of barcode_nomenclature (2).txt', '/content/drive/MyDrive/Uottawa GP/dataset-normal/Copy of barcode (2).txt', '/content/drive/MyDrive/Uottawa GP/dataset-normal/Copy of banner (2).txt', '/content/drive/MyDrive/Uottawa GP/dataset-normal/Copy of barcode_rule (2).txt', '/content/drive/MyDrive/Uottawa GP/dataset-normal/Copy of bar (2).txt', '/content/drive/MyDrive/Uottawa GP/dataset-normal/Copy of automated-email (2).txt', '/content/drive/MyDrive/Uottawa GP/dataset-normal/Copy of base_automation (2).txt', '/content/drive/MyDrive/Uottawa GP/dataset-normal/Copy of base_import_language (2).txt', '/content/drive/MyDrive/Uottawa GP/dataset-normal/Copy of base_import (2).txt', '/content/drive/MyDrive/Uottawa GP/dataset-normal/Copy of base_classes (2).txt', '/content/drive/MyDrive/Uottawa GP/dataset-normal/Copy of base_geocoder (2).txt', '/content/drive/MyDrive/Uottawa GP/dataset-normal/Copy of base_import_module (2).txt', '/content/drive/MyDrive/Uottawa GP/dataset-normal/Copy of base_document_layout (2).txt', '/content/drive/MyDrive/Uottawa GP/dataset-normal/Copy of bart_decoding_sample (2).txt', '/content/drive/MyDrive/Uottawa GP/dataset-normal/Copy of base_command (2).txt', '/content/drive/MyDrive/Uottawa GP/dataset-normal/Copy of base_export_language (2).txt', '/content/drive/MyDrive/Uottawa GP/dataset-normal/Copy of base_module_uninstall (2).txt', '/content/drive/MyDrive/Uottawa GP/dataset-normal/Copy of base_model (2).txt', '/content/drive/MyDrive/Uottawa GP/dataset-normal/Copy of base_session (2).txt', '/content/drive/MyDrive/Uottawa GP/dataset-normal/Copy of base_language_install (2).txt', '/content/drive/MyDrive/Uottawa GP/dataset-normal/Copy of base_partner_merge (2).txt', '/content/drive/MyDrive/Uottawa GP/dataset-normal/Copy of base_module_upgrade (2).txt', '/content/drive/MyDrive/Uottawa GP/dataset-normal/Copy of base_stack (2).txt', '/content/drive/MyDrive/Uottawa GP/dataset-normal/Copy of base_partner_merge_automatic_wizard (2).txt', '/content/drive/MyDrive/Uottawa GP/dataset-normal/Copy of base_module_update (2).txt', '/content/drive/MyDrive/Uottawa GP/dataset-normal/Copy of base_sql_model (2).txt', '/content/drive/MyDrive/Uottawa GP/dataset-normal/Copy of bar (1).txt', '/content/drive/MyDrive/Uottawa GP/dataset-normal/Copy of barcode (1).txt', '/content/drive/MyDrive/Uottawa GP/dataset-normal/Copy of argparser (1).txt', '/content/drive/MyDrive/Uottawa GP/dataset-normal/Copy of argtypes (1).txt', '/content/drive/MyDrive/Uottawa GP/dataset-normal/Copy of barcode_rule (1).txt', '/content/drive/MyDrive/Uottawa GP/dataset-normal/Copy of barcode_nomenclature (1).txt', '/content/drive/MyDrive/Uottawa GP/dataset-normal/Copy of automated-email (1).txt', '/content/drive/MyDrive/Uottawa GP/dataset-normal/Copy of banner (1).txt', '/content/drive/MyDrive/Uottawa GP/dataset-normal/Copy of barcode_events_mixin (1).txt', '/content/drive/MyDrive/Uottawa GP/dataset-normal/Copy of 54 (1).txt', '/content/drive/MyDrive/Uottawa GP/dataset-normal/Copy of base_import_module (1).txt', '/content/drive/MyDrive/Uottawa GP/dataset-normal/Copy of base_geocoder (1).txt', '/content/drive/MyDrive/Uottawa GP/dataset-normal/Copy of base_automation (1).txt', '/content/drive/MyDrive/Uottawa GP/dataset-normal/Copy of base_command (1).txt', '/content/drive/MyDrive/Uottawa GP/dataset-normal/Copy of bart_decoding_sample (1).txt', '/content/drive/MyDrive/Uottawa GP/dataset-normal/Copy of base_import (1).txt', '/content/drive/MyDrive/Uottawa GP/dataset-normal/Copy of base_classes (1).txt', '/content/drive/MyDrive/Uottawa GP/dataset-normal/Copy of base_import_language (1).txt', '/content/drive/MyDrive/Uottawa GP/dataset-normal/Copy of base_document_layout (1).txt', '/content/drive/MyDrive/Uottawa GP/dataset-normal/Copy of base_export_language (1).txt', '/content/drive/MyDrive/Uottawa GP/dataset-normal/Copy of base_language_install (1).txt', '/content/drive/MyDrive/Uottawa GP/dataset-normal/Copy of base_sql_model (1).txt', '/content/drive/MyDrive/Uottawa GP/dataset-normal/Copy of base_session (1).txt', '/content/drive/MyDrive/Uottawa GP/dataset-normal/Copy of base_stack (1).txt', '/content/drive/MyDrive/Uottawa GP/dataset-normal/Copy of base_module_update (1).txt', '/content/drive/MyDrive/Uottawa GP/dataset-normal/Copy of base_model (1).txt', '/content/drive/MyDrive/Uottawa GP/dataset-normal/Copy of base_partner_merge_automatic_wizard (1).txt', '/content/drive/MyDrive/Uottawa GP/dataset-normal/Copy of base_module_upgrade (1).txt', '/content/drive/MyDrive/Uottawa GP/dataset-normal/Copy of base_module_uninstall (1).txt', '/content/drive/MyDrive/Uottawa GP/dataset-normal/Copy of base_partner_merge (1).txt', '/content/drive/MyDrive/Uottawa GP/dataset-normal/Copy of base_unit (1).txt', '/content/drive/MyDrive/Uottawa GP/dataset-normal/Copy of base_update_translations (1).txt', '/content/drive/MyDrive/Uottawa GP/dataset-normal/Copy of basel2 (1).txt', '/content/drive/MyDrive/Uottawa GP/dataset-normal/Copy of basethread (1).txt', '/content/drive/MyDrive/Uottawa GP/dataset-normal/Copy of base_tests (1).txt', '/content/drive/MyDrive/Uottawa GP/dataset-normal/Copy of basehttp (1).txt', '/content/drive/MyDrive/Uottawa GP/dataset-normal/Copy of base_user (1).txt', '/content/drive/MyDrive/Uottawa GP/dataset-normal/Copy of basel (1).txt', '/content/drive/MyDrive/Uottawa GP/dataset-normal/Copy of baseconv (1).txt', '/content/drive/MyDrive/Uottawa GP/dataset-normal/Copy of base (1).txt', '/content/drive/MyDrive/Uottawa GP/dataset-normal/Copy of calculate.txt', '/content/drive/MyDrive/Uottawa GP/dataset-normal/Copy of calc_metrics.txt', '/content/drive/MyDrive/Uottawa GP/dataset-normal/Copy of calendar_filter.txt', '/content/drive/MyDrive/Uottawa GP/dataset-normal/Copy of calendar_event_type.txt', '/content/drive/MyDrive/Uottawa GP/dataset-normal/Copy of calendar_recurrence_rule.txt', '/content/drive/MyDrive/Uottawa GP/dataset-normal/Copy of camera.txt', '/content/drive/MyDrive/Uottawa GP/dataset-normal/Copy of calendar_event.txt', '/content/drive/MyDrive/Uottawa GP/dataset-normal/Copy of callback.txt', '/content/drive/MyDrive/Uottawa GP/dataset-normal/Copy of calendar.txt', '/content/drive/MyDrive/Uottawa GP/dataset-normal/Copy of calibration.txt', '/content/drive/MyDrive/Uottawa GP/dataset-normal/Copy of calculator.txt', '/content/drive/MyDrive/Uottawa GP/dataset-normal/Copy of cards.txt', '/content/drive/MyDrive/Uottawa GP/dataset-normal/Copy of case_from_email.txt', '/content/drive/MyDrive/Uottawa GP/dataset-normal/Copy of cascade_rcnn.txt', '/content/drive/MyDrive/Uottawa GP/dataset-normal/Copy of calendar_alarm_manager.txt', '/content/drive/MyDrive/Uottawa GP/dataset-normal/Copy of calendar_recurrence.txt', '/content/drive/MyDrive/Uottawa GP/dataset-normal/Copy of calendar_attendee.txt', '/content/drive/MyDrive/Uottawa GP/dataset-normal/Copy of capture_video_frames.txt', '/content/drive/MyDrive/Uottawa GP/dataset-normal/Copy of calendar_alarm.txt', '/content/drive/MyDrive/Uottawa GP/dataset-normal/Copy of capture_widget.txt', '/content/drive/MyDrive/Uottawa GP/dataset-normal/Copy of caffe2_patch.txt', '/content/drive/MyDrive/Uottawa GP/dataset-normal/Copy of cached_db.txt', '/content/drive/MyDrive/Uottawa GP/dataset-normal/Copy of cache.txt', '/content/drive/MyDrive/Uottawa GP/dataset-normal/Copy of cached.txt', '/content/drive/MyDrive/Uottawa GP/dataset-normal/Copy of caffe2_modeling.txt', '/content/drive/MyDrive/Uottawa GP/dataset-normal/Copy of caffe2_export.txt', '/content/drive/MyDrive/Uottawa GP/dataset-normal/Copy of cail2019_scm.txt', '/content/drive/MyDrive/Uottawa GP/dataset-normal/Copy of caffe2_inference.txt', '/content/drive/MyDrive/Uottawa GP/dataset-normal/Copy of cached_image_folder.txt', '/content/drive/MyDrive/Uottawa GP/dataset-normal/Copy of caches.txt', '/content/drive/MyDrive/Uottawa GP/dataset-normal/Copy of c.txt', '/content/drive/MyDrive/Uottawa GP/dataset-normal/Copy of c3.txt', '/content/drive/MyDrive/Uottawa GP/dataset-normal/Copy of bus_controller.txt', '/content/drive/MyDrive/Uottawa GP/dataset-normal/Copy of butterfly_curve.txt', '/content/drive/MyDrive/Uottawa GP/dataset-normal/Copy of bus.txt', '/content/drive/MyDrive/Uottawa GP/dataset-normal/Copy of c48cb773bb87_reset_default_value_for_is_nan_in_metrics_table_for_mysql.txt', '/content/drive/MyDrive/Uottawa GP/dataset-normal/Copy of bus_presence.txt', '/content/drive/MyDrive/Uottawa GP/dataset-normal/Copy of c2.txt', '/content/drive/MyDrive/Uottawa GP/dataset-normal/Copy of c10.txt', '/content/drive/MyDrive/Uottawa GP/dataset-normal/Copy of c2_model_loading.txt', '/content/drive/MyDrive/Uottawa GP/dataset-normal/Copy of build_swda_dataset.txt', '/content/drive/MyDrive/Uottawa GP/dataset-normal/Copy of builtin_meta.txt', '/content/drive/MyDrive/Uottawa GP/dataset-normal/Copy of build_mrda_dataset.txt', '/content/drive/MyDrive/Uottawa GP/dataset-normal/Copy of build_solver.txt', '/content/drive/MyDrive/Uottawa GP/dataset-normal/Copy of build_dstc2_dataset.txt', '/content/drive/MyDrive/Uottawa GP/dataset-normal/Copy of builtin.txt', '/content/drive/MyDrive/Uottawa GP/dataset-normal/Copy of build.txt', '/content/drive/MyDrive/Uottawa GP/dataset-normal/Copy of bucket.txt', '/content/drive/MyDrive/Uottawa GP/dataset-normal/Copy of build_atis_dataset.txt', '/content/drive/MyDrive/Uottawa GP/dataset-normal/Copy of builder.txt', '/content/drive/MyDrive/Uottawa GP/dataset-normal/Copy of boxes.txt', '/content/drive/MyDrive/Uottawa GP/dataset-normal/Copy of bq_corpus.txt', '/content/drive/MyDrive/Uottawa GP/dataset-normal/Copy of brace.txt', '/content/drive/MyDrive/Uottawa GP/dataset-normal/Copy of broken_tags.txt', '/content/drive/MyDrive/Uottawa GP/dataset-normal/Copy of brick_row.txt', '/content/drive/MyDrive/Uottawa GP/dataset-normal/Copy of bstc.txt', '/content/drive/MyDrive/Uottawa GP/dataset-normal/Copy of broken_tag.txt', '/content/drive/MyDrive/Uottawa GP/dataset-normal/Copy of brick_row_scene.txt', '/content/drive/MyDrive/Uottawa GP/dataset-normal/Copy of breadcrumbs.txt', '/content/drive/MyDrive/Uottawa GP/dataset-normal/Copy of browser.txt', '/content/drive/MyDrive/Uottawa GP/dataset-normal/Copy of box_regression.txt', '/content/drive/MyDrive/Uottawa GP/dataset-normal/Copy of borsuk_addition.txt', '/content/drive/MyDrive/Uottawa GP/dataset-normal/Copy of borsuk.txt', '/content/drive/MyDrive/Uottawa GP/dataset-normal/Copy of bounding_box.txt', '/content/drive/MyDrive/Uottawa GP/dataset-normal/Copy of box_head.txt', '/content/drive/MyDrive/Uottawa GP/dataset-normal/Copy of bookcorpus.txt', '/content/drive/MyDrive/Uottawa GP/dataset-normal/Copy of bot.txt', '/content/drive/MyDrive/Uottawa GP/dataset-normal/Copy of boundfield.txt', '/content/drive/MyDrive/Uottawa GP/dataset-normal/Copy of bow.txt', '/content/drive/MyDrive/Uottawa GP/dataset-normal/Copy of board.txt', '/content/drive/MyDrive/Uottawa GP/dataset-normal/Copy of bitcoin.txt', '/content/drive/MyDrive/Uottawa GP/dataset-normal/Copy of bleu.txt', '/content/drive/MyDrive/Uottawa GP/dataset-normal/Copy of block_for_quanta.txt', '/content/drive/MyDrive/Uottawa GP/dataset-normal/Copy of bits.txt', '/content/drive/MyDrive/Uottawa GP/dataset-normal/Copy of blob.txt', '/content/drive/MyDrive/Uottawa GP/dataset-normal/Copy of block.txt', '/content/drive/MyDrive/Uottawa GP/dataset-normal/Copy of blocklist.txt', '/content/drive/MyDrive/Uottawa GP/dataset-normal/Copy of blocks.txt', '/content/drive/MyDrive/Uottawa GP/dataset-normal/Copy of block_collision_scenes.txt', '/content/drive/MyDrive/Uottawa GP/dataset-normal/Copy of block_dns_over_https.txt', '/content/drive/MyDrive/Uottawa GP/dataset-normal/Copy of binning.txt', '/content/drive/MyDrive/Uottawa GP/dataset-normal/Copy of birthday.txt', '/content/drive/MyDrive/Uottawa GP/dataset-normal/Copy of birthDateToCurrentAge.txt', '/content/drive/MyDrive/Uottawa GP/dataset-normal/Copy of bimo_images.txt', '/content/drive/MyDrive/Uottawa GP/dataset-normal/Copy of bidaf_model.txt', '/content/drive/MyDrive/Uottawa GP/dataset-normal/Copy of bilm.txt', '/content/drive/MyDrive/Uottawa GP/dataset-normal/Copy of bimo_image.txt', '/content/drive/MyDrive/Uottawa GP/dataset-normal/Copy of binary_option.txt', '/content/drive/MyDrive/Uottawa GP/dataset-normal/Copy of binary_classification.txt', '/content/drive/MyDrive/Uottawa GP/dataset-normal/Copy of bidi.txt', '/content/drive/MyDrive/Uottawa GP/dataset-normal/Copy of bert_distill.txt', '/content/drive/MyDrive/Uottawa GP/dataset-normal/Copy of beta1.txt', '/content/drive/MyDrive/Uottawa GP/dataset-normal/Copy of bias_act.txt', '/content/drive/MyDrive/Uottawa GP/dataset-normal/Copy of beta2.txt', '/content/drive/MyDrive/Uottawa GP/dataset-normal/Copy of bert_classification.txt', '/content/drive/MyDrive/Uottawa GP/dataset-normal/Copy of benchmark.txt', '/content/drive/MyDrive/Uottawa GP/dataset-normal/Copy of bert_utils.txt', '/content/drive/MyDrive/Uottawa GP/dataset-normal/Copy of bert.txt', '/content/drive/MyDrive/Uottawa GP/dataset-normal/Copy of bezier.txt', '/content/drive/MyDrive/Uottawa GP/dataset-normal/Copy of beta3.txt', '/content/drive/MyDrive/Uottawa GP/dataset-normal/Copy of bench_sample_without_replacement.txt', '/content/drive/MyDrive/Uottawa GP/dataset-normal/Copy of bench_text_vectorizers.txt', '/content/drive/MyDrive/Uottawa GP/dataset-normal/Copy of bench_sparsify.txt', '/content/drive/MyDrive/Uottawa GP/dataset-normal/Copy of bench_tree.txt', '/content/drive/MyDrive/Uottawa GP/dataset-normal/Copy of bench_tsne_mnist.txt', '/content/drive/MyDrive/Uottawa GP/dataset-normal/Copy of bench.txt', '/content/drive/MyDrive/Uottawa GP/dataset-normal/Copy of bench_random_projections.txt', '/content/drive/MyDrive/Uottawa GP/dataset-normal/Copy of bench_rcv1_logreg_convergence.txt', '/content/drive/MyDrive/Uottawa GP/dataset-normal/Copy of bench_saga.txt', '/content/drive/MyDrive/Uottawa GP/dataset-normal/Copy of bench_sgd_regression.txt', '/content/drive/MyDrive/Uottawa GP/dataset-normal/Copy of bench_plot_svd.txt', '/content/drive/MyDrive/Uottawa GP/dataset-normal/Copy of bench_plot_randomized_svd.txt', '/content/drive/MyDrive/Uottawa GP/dataset-normal/Copy of bench_plot_incremental_pca.txt', '/content/drive/MyDrive/Uottawa GP/dataset-normal/Copy of bench_plot_lasso_path.txt', '/content/drive/MyDrive/Uottawa GP/dataset-normal/Copy of bench_plot_polynomial_kernel_approximation.txt', '/content/drive/MyDrive/Uottawa GP/dataset-normal/Copy of bench_plot_parallel_pairwise.txt', '/content/drive/MyDrive/Uottawa GP/dataset-normal/Copy of bench_plot_neighbors.txt', '/content/drive/MyDrive/Uottawa GP/dataset-normal/Copy of bench_plot_ward.txt', '/content/drive/MyDrive/Uottawa GP/dataset-normal/Copy of bench_plot_nmf.txt', '/content/drive/MyDrive/Uottawa GP/dataset-normal/Copy of bench_plot_omp_lars.txt', '/content/drive/MyDrive/Uottawa GP/dataset-normal/Copy of bench_isotonic.txt', '/content/drive/MyDrive/Uottawa GP/dataset-normal/Copy of bench_multilabel_metrics.txt', '/content/drive/MyDrive/Uottawa GP/dataset-normal/Copy of bench_plot_fastkmeans.txt', '/content/drive/MyDrive/Uottawa GP/dataset-normal/Copy of bench_kernel_pca_solvers_time_vs_n_samples.txt', '/content/drive/MyDrive/Uottawa GP/dataset-normal/Copy of bench_plot_hierarchical.txt', '/content/drive/MyDrive/Uottawa GP/dataset-normal/Copy of bench_lasso.txt', '/content/drive/MyDrive/Uottawa GP/dataset-normal/Copy of bench_lof.txt', '/content/drive/MyDrive/Uottawa GP/dataset-normal/Copy of bench_kernel_pca_solvers_time_vs_n_components.txt', '/content/drive/MyDrive/Uottawa GP/dataset-normal/Copy of bench_mnist.txt', '/content/drive/MyDrive/Uottawa GP/dataset-normal/Copy of bench_online_ocsvm.txt', '/content/drive/MyDrive/Uottawa GP/dataset-normal/Copy of bench_glm.txt', '/content/drive/MyDrive/Uottawa GP/dataset-normal/Copy of bench_covertype.txt', '/content/drive/MyDrive/Uottawa GP/dataset-normal/Copy of bench_feature_expansions.txt', '/content/drive/MyDrive/Uottawa GP/dataset-normal/Copy of bench_hist_gradient_boosting.txt', '/content/drive/MyDrive/Uottawa GP/dataset-normal/Copy of bench_hist_gradient_boosting_higgsboson.txt', '/content/drive/MyDrive/Uottawa GP/dataset-normal/Copy of bench_hist_gradient_boosting_adult.txt', '/content/drive/MyDrive/Uottawa GP/dataset-normal/Copy of bench_glmnet.txt', '/content/drive/MyDrive/Uottawa GP/dataset-normal/Copy of bench_hist_gradient_boosting_categorical_only.txt', '/content/drive/MyDrive/Uottawa GP/dataset-normal/Copy of bench_isolation_forest.txt', '/content/drive/MyDrive/Uottawa GP/dataset-normal/Copy of bench_hist_gradient_boosting_threading.txt', '/content/drive/MyDrive/Uottawa GP/dataset-normal/Copy of bench_20newsgroups.txt', '/content/drive/MyDrive/Uottawa GP/dataset-normal/Copy of bayes.txt', '/content/drive/MyDrive/Uottawa GP/dataset-normal/Copy of batch_v2alpha1_api.txt', '/content/drive/MyDrive/Uottawa GP/dataset-normal/Copy of beginning_with_caret.txt', '/content/drive/MyDrive/Uottawa GP/dataset-normal/Copy of bell.txt', '/content/drive/MyDrive/Uottawa GP/dataset-normal/Copy of batching.txt', '/content/drive/MyDrive/Uottawa GP/dataset-normal/Copy of beginning_with_slash.txt', '/content/drive/MyDrive/Uottawa GP/dataset-normal/Copy of battery.txt', '/content/drive/MyDrive/Uottawa GP/dataset-normal/Copy of bayes_footnote.txt', '/content/drive/MyDrive/Uottawa GP/dataset-normal/Copy of beam_search.txt', '/content/drive/MyDrive/Uottawa GP/dataset-normal/Copy of batch_api.txt', '/content/drive/MyDrive/Uottawa GP/dataset-normal/Copy of batch_v1beta1_api.txt', '/content/drive/MyDrive/Uottawa GP/dataset-normal/Copy of basethread.txt', '/content/drive/MyDrive/Uottawa GP/dataset-normal/Copy of batch_v1_api.txt', '/content/drive/MyDrive/Uottawa GP/dataset-normal/Copy of basehttp.txt', '/content/drive/MyDrive/Uottawa GP/dataset-normal/Copy of batch_sampler.txt', '/content/drive/MyDrive/Uottawa GP/dataset-normal/Copy of basel2.txt', '/content/drive/MyDrive/Uottawa GP/dataset-normal/Copy of baseconv.txt', '/content/drive/MyDrive/Uottawa GP/dataset-normal/Copy of basel.txt', '/content/drive/MyDrive/Uottawa GP/dataset-normal/Copy of batch_norm.txt', '/content/drive/MyDrive/Uottawa GP/dataset-normal/Copy of base_tests.txt', '/content/drive/MyDrive/Uottawa GP/dataset-normal/Copy of base_stack.txt', '/content/drive/MyDrive/Uottawa GP/dataset-normal/Copy of base_update_translations.txt', '/content/drive/MyDrive/Uottawa GP/dataset-normal/Copy of base_user.txt', '/content/drive/MyDrive/Uottawa GP/dataset-normal/Copy of base_unit.txt', '/content/drive/MyDrive/Uottawa GP/dataset-normal/Copy of base.txt', '/content/drive/MyDrive/Uottawa GP/dataset-normal/Copy of base_partner_merge_automatic_wizard.txt', '/content/drive/MyDrive/Uottawa GP/dataset-normal/Copy of base_sql_model.txt', '/content/drive/MyDrive/Uottawa GP/dataset-normal/Copy of base_partner_merge.txt', '/content/drive/MyDrive/Uottawa GP/dataset-normal/Copy of base_session.txt', '/content/drive/MyDrive/Uottawa GP/dataset-normal/Copy of base_export_language.txt', '/content/drive/MyDrive/Uottawa GP/dataset-normal/Copy of base_module_update.txt', '/content/drive/MyDrive/Uottawa GP/dataset-normal/Copy of base_import.txt', '/content/drive/MyDrive/Uottawa GP/dataset-normal/Copy of base_import_language.txt', '/content/drive/MyDrive/Uottawa GP/dataset-normal/Copy of base_import_module.txt', '/content/drive/MyDrive/Uottawa GP/dataset-normal/Copy of base_model.txt', '/content/drive/MyDrive/Uottawa GP/dataset-normal/Copy of base_module_uninstall.txt', '/content/drive/MyDrive/Uottawa GP/dataset-normal/Copy of base_language_install.txt', '/content/drive/MyDrive/Uottawa GP/dataset-normal/Copy of base_module_upgrade.txt', '/content/drive/MyDrive/Uottawa GP/dataset-normal/Copy of base_geocoder.txt', '/content/drive/MyDrive/Uottawa GP/dataset-normal/Copy of base_document_layout.txt', '/content/drive/MyDrive/Uottawa GP/dataset-normal/Copy of bart_decoding_sample.txt', '/content/drive/MyDrive/Uottawa GP/dataset-normal/Copy of barcode_nomenclature.txt', '/content/drive/MyDrive/Uottawa GP/dataset-normal/Copy of base_command.txt', '/content/drive/MyDrive/Uottawa GP/dataset-normal/Copy of base_classes.txt', '/content/drive/MyDrive/Uottawa GP/dataset-normal/Copy of barcode.txt', '/content/drive/MyDrive/Uottawa GP/dataset-normal/Copy of bar.txt', '/content/drive/MyDrive/Uottawa GP/dataset-normal/Copy of barcode_rule.txt', '/content/drive/MyDrive/Uottawa GP/dataset-normal/Copy of barcode_events_mixin.txt', '/content/drive/MyDrive/Uottawa GP/dataset-normal/Copy of base_automation.txt', '/content/drive/MyDrive/Uottawa GP/dataset-normal/Copy of argtypes.txt', '/content/drive/MyDrive/Uottawa GP/dataset-normal/Copy of argparser.txt', '/content/drive/MyDrive/Uottawa GP/dataset-normal/Copy of banner.txt', '/content/drive/MyDrive/Uottawa GP/dataset-normal/Copy of 54.txt', '/content/drive/MyDrive/Uottawa GP/dataset-normal/Copy of automated-email.txt', '/content/drive/MyDrive/Uottawa GP/dataset-normal/http_chunk.txt', '/content/drive/MyDrive/Uottawa GP/dataset-normal/webserver_thread.txt', '/content/drive/MyDrive/Uottawa GP/dataset-normal/bucket.txt', '/content/drive/MyDrive/Uottawa GP/dataset-normal/request_factory.txt', '/content/drive/MyDrive/Uottawa GP/dataset-normal/browser.txt', '/content/drive/MyDrive/Uottawa GP/dataset-normal/http_request.txt', '/content/drive/MyDrive/Uottawa GP/dataset-normal/downloader.txt', '/content/drive/MyDrive/Uottawa GP/dataset-normal/http_download.txt', '/content/drive/MyDrive/Uottawa GP/dataset-normal/request.txt', '/content/drive/MyDrive/Uottawa GP/dataset-normal/socket.txt', '/content/drive/MyDrive/Uottawa GP/dataset-normal/server.txt', '/content/drive/MyDrive/Uottawa GP/dataset-normal/New Text Document.txt', '/content/drive/MyDrive/Uottawa GP/dataset-normal/bitcoin.txt', '/content/drive/MyDrive/Uottawa GP/dataset-normal/checksum.txt', '/content/drive/MyDrive/Uottawa GP/dataset-normal/New Text Document (2).txt', '/content/drive/MyDrive/Uottawa GP/dataset-normal/contact-distribution.txt', '/content/drive/MyDrive/Uottawa GP/dataset-normal/New Text Document (3).txt', '/content/drive/MyDrive/Uottawa GP/dataset-normal/current-weather.txt', '/content/drive/MyDrive/Uottawa GP/dataset-normal/directory-organizer.txt', '/content/drive/MyDrive/Uottawa GP/dataset-normal/download-page-file-as-pdf.txt', '/content/drive/MyDrive/Uottawa GP/dataset-normal/bot.txt', '/content/drive/MyDrive/Uottawa GP/dataset-normal/folder-locker.txt', '/content/drive/MyDrive/Uottawa GP/dataset-normal/github-bot.txt', '/content/drive/MyDrive/Uottawa GP/dataset-normal/New Text Document (4).txt', '/content/drive/MyDrive/Uottawa GP/dataset-normal/compress-image.txt', '/content/drive/MyDrive/Uottawa GP/dataset-normal/New Text Document (5).txt', '/content/drive/MyDrive/Uottawa GP/dataset-normal/New Text Document (6).txt', '/content/drive/MyDrive/Uottawa GP/dataset-normal/ping-server.txt', '/content/drive/MyDrive/Uottawa GP/dataset-normal/proxy-request.txt', '/content/drive/MyDrive/Uottawa GP/dataset-normal/New Text Document (7).txt', '/content/drive/MyDrive/Uottawa GP/dataset-normal/key-generator.txt', '/content/drive/MyDrive/Uottawa GP/dataset-normal/rsa-algorithm.txt', '/content/drive/MyDrive/Uottawa GP/dataset-normal/rsa-communication.txt', '/content/drive/MyDrive/Uottawa GP/dataset-normal/random-email-generator.txt', '/content/drive/MyDrive/Uottawa GP/dataset-normal/random-name-generator.txt', '/content/drive/MyDrive/Uottawa GP/dataset-normal/ssh-header.txt', '/content/drive/MyDrive/Uottawa GP/dataset-normal/New Text Document (8).txt', '/content/drive/MyDrive/Uottawa GP/dataset-normal/subtitle-downloader.txt', '/content/drive/MyDrive/Uottawa GP/dataset-normal/ticket-generator.txt', '/content/drive/MyDrive/Uottawa GP/dataset-normal/test-speed.txt', '/content/drive/MyDrive/Uottawa GP/dataset-normal/telegram-bot.txt', '/content/drive/MyDrive/Uottawa GP/dataset-normal/tweets-tool.txt', '/content/drive/MyDrive/Uottawa GP/dataset-normal/extract-saved-password.txt', '/content/drive/MyDrive/Uottawa GP/dataset-normal/rsa.txt', '/content/drive/MyDrive/Uottawa GP/dataset-normal/automated-email.txt', '/content/drive/MyDrive/Uottawa GP/dataset-normal/New Text Document (9).txt', '/content/drive/MyDrive/Uottawa GP/dataset-normal/send-whatsap-message.txt', '/content/drive/MyDrive/Uottawa GP/dataset-normal/New Text Document (10).txt', '/content/drive/MyDrive/Uottawa GP/dataset-normal/url-shortner.txt', '/content/drive/MyDrive/Uottawa GP/dataset-normal/New Text Document (11).txt', '/content/drive/MyDrive/Uottawa GP/dataset-normal/New Text Document (12).txt', '/content/drive/MyDrive/Uottawa GP/dataset-normal/git-public-ip-of-your-machine.txt', '/content/drive/MyDrive/Uottawa GP/dataset-normal/locate-me.txt', '/content/drive/MyDrive/Uottawa GP/dataset-normal/ftp-download.txt', '/content/drive/MyDrive/Uottawa GP/dataset-normal/spam-whatsap.txt', '/content/drive/MyDrive/Uottawa GP/dataset-normal/New Text Document (13).txt', '/content/drive/MyDrive/Uottawa GP/dataset-normal/New Text Document (14).txt', '/content/drive/MyDrive/Uottawa GP/dataset-normal/New Text Document (15).txt', '/content/drive/MyDrive/Uottawa GP/dataset-normal/New Text Document (16).txt', '/content/drive/MyDrive/Uottawa GP/dataset-normal/New Text Document (17).txt', '/content/drive/MyDrive/Uottawa GP/dataset-normal/New Text Document (18).txt', '/content/drive/MyDrive/Uottawa GP/dataset-normal/New Text Document (19).txt', '/content/drive/MyDrive/Uottawa GP/dataset-normal/New Text Document (20).txt', '/content/drive/MyDrive/Uottawa GP/dataset-normal/New Text Document (21).txt', '/content/drive/MyDrive/Uottawa GP/dataset-normal/New Text Document (22).txt', '/content/drive/MyDrive/Uottawa GP/dataset-normal/New Text Document (23).txt', '/content/drive/MyDrive/Uottawa GP/dataset-normal/zoom.txt', '/content/drive/MyDrive/Uottawa GP/dataset-normal/New Text Document (24).txt', '/content/drive/MyDrive/Uottawa GP/dataset-normal/New Text Document (25).txt', '/content/drive/MyDrive/Uottawa GP/dataset-normal/New Text Document (26).txt', '/content/drive/MyDrive/Uottawa GP/dataset-normal/speed-test.txt', '/content/drive/MyDrive/Uottawa GP/dataset-normal/streams.txt', '/content/drive/MyDrive/Uottawa GP/dataset-normal/test_defaults.txt', '/content/drive/MyDrive/Uottawa GP/dataset-normal/test_config.txt', '/content/drive/MyDrive/Uottawa GP/dataset-normal/definition.txt', '/content/drive/MyDrive/Uottawa GP/dataset-normal/encoding.txt', '/content/drive/MyDrive/Uottawa GP/dataset-normal/test_redirects.txt', '/content/drive/MyDrive/Uottawa GP/dataset-normal/writer.txt', '/content/drive/MyDrive/Uottawa GP/dataset-normal/client.txt', '/content/drive/MyDrive/Uottawa GP/dataset-normal/downloads.txt', '/content/drive/MyDrive/Uottawa GP/dataset-normal/test_compress.txt', '/content/drive/MyDrive/Uottawa GP/dataset-normal/utils.txt', '/content/drive/MyDrive/Uottawa GP/dataset-normal/test_xml.txt', '/content/drive/MyDrive/Uottawa GP/dataset-normal/ssl.txt', '/content/drive/MyDrive/Uottawa GP/dataset-normal/test_output.txt', '/content/drive/MyDrive/Uottawa GP/dataset-normal/test_json.txt', '/content/drive/MyDrive/Uottawa GP/dataset-normal/exceptions.txt', '/content/drive/MyDrive/Uottawa GP/dataset-normal/test_errors.txt', '/content/drive/MyDrive/Uottawa GP/dataset-normal/test_transport_plugin.txt', '/content/drive/MyDrive/Uottawa GP/dataset-normal/builtin.txt', '/content/drive/MyDrive/Uottawa GP/dataset-normal/test_matching.txt', '/content/drive/MyDrive/Uottawa GP/dataset-normal/test_regressions.txt', '/content/drive/MyDrive/Uottawa GP/dataset-normal/models.txt', '/content/drive/MyDrive/Uottawa GP/dataset-normal/config.txt', '/content/drive/MyDrive/Uottawa GP/dataset-normal/constants.txt', '/content/drive/MyDrive/Uottawa GP/dataset-normal/test_tokens.txt', '/content/drive/MyDrive/Uottawa GP/dataset-normal/test_uploads.txt', '/content/drive/MyDrive/Uottawa GP/dataset-normal/test_windows.txt', '/content/drive/MyDrive/Uottawa GP/dataset-normal/manager.txt', '/content/drive/MyDrive/Uottawa GP/dataset-normal/core.txt', '/content/drive/MyDrive/Uottawa GP/dataset-normal/compat.txt', '/content/drive/MyDrive/Uottawa GP/dataset-normal/uploads.txt', '/content/drive/MyDrive/Uottawa GP/dataset-normal/test_ssl.txt', '/content/drive/MyDrive/Uottawa GP/dataset-normal/test_sessions.txt', '/content/drive/MyDrive/Uottawa GP/dataset-normal/test_cookie.txt', '/content/drive/MyDrive/Uottawa GP/dataset-normal/test_cli.txt', '/content/drive/MyDrive/Uottawa GP/dataset-normal/test_auth.txt', '/content/drive/MyDrive/Uottawa GP/dataset-normal/test_exit_status.txt', '/content/drive/MyDrive/Uottawa GP/dataset-normal/sessions.txt', '/content/drive/MyDrive/Uottawa GP/dataset-normal/base.txt', '/content/drive/MyDrive/Uottawa GP/dataset-normal/tokens.txt', '/content/drive/MyDrive/Uottawa GP/dataset-normal/test_downloads.txt', '/content/drive/MyDrive/Uottawa GP/dataset-normal/argparser.txt', '/content/drive/MyDrive/Uottawa GP/dataset-normal/requestitems.txt', '/content/drive/MyDrive/Uottawa GP/dataset-normal/context.txt', '/content/drive/MyDrive/Uottawa GP/dataset-normal/test_auth_plugins.txt', '/content/drive/MyDrive/Uottawa GP/dataset-normal/test_offline.txt', '/content/drive/MyDrive/Uottawa GP/dataset-normal/test_binary.txt', '/content/drive/MyDrive/Uottawa GP/dataset-normal/dicts.txt', '/content/drive/MyDrive/Uottawa GP/dataset-normal/conftest.txt', '/content/drive/MyDrive/Uottawa GP/dataset-normal/test_httpie.txt', '/content/drive/MyDrive/Uottawa GP/dataset-normal/test_encoding.txt', '/content/drive/MyDrive/Uottawa GP/dataset-normal/processing.txt', '/content/drive/MyDrive/Uottawa GP/dataset-normal/registry.txt', '/content/drive/MyDrive/Uottawa GP/dataset-normal/test_stream.txt', '/content/drive/MyDrive/Uottawa GP/dataset-normal/argtypes.txt', '/content/drive/MyDrive/Uottawa GP/dataset-normal/54.txt', '/content/drive/MyDrive/Uottawa GP/dataset-normal/kj.txt', '/content/drive/MyDrive/Uottawa GP/dataset-normal/jh.txt', '/content/drive/MyDrive/Uottawa GP/dataset-normal/kl4.txt', '/content/drive/MyDrive/Uottawa GP/dataset-normal/traceroute.txt', '/content/drive/MyDrive/Uottawa GP/dataset-normal/jkh.txt', '/content/drive/MyDrive/Uottawa GP/dataset-normal/rts.txt', '/content/drive/MyDrive/Uottawa GP/dataset-normal/jj.txt', '/content/drive/MyDrive/Uottawa GP/dataset-normal/gjhg.txt', '/content/drive/MyDrive/Uottawa GP/dataset-normal/gkjbk.txt', '/content/drive/MyDrive/Uottawa GP/dataset-normal/jkh5.txt', '/content/drive/MyDrive/Uottawa GP/dataset-normal/dddd.txt', '/content/drive/MyDrive/Uottawa GP/dataset-normal/hgf.txt', '/content/drive/MyDrive/Uottawa GP/dataset-normal/fgg.txt', '/content/drive/MyDrive/Uottawa GP/dataset-normal/cspider_v2.txt', '/content/drive/MyDrive/Uottawa GP/dataset-normal/event_edit_registration.txt', '/content/drive/MyDrive/Uottawa GP/dataset-normal/dataset_tool.txt', '/content/drive/MyDrive/Uottawa GP/dataset-normal/contentview.txt', '/content/drive/MyDrive/Uottawa GP/dataset-normal/cached_image_folder.txt', '/content/drive/MyDrive/Uottawa GP/dataset-normal/ctx.txt', '/content/drive/MyDrive/Uottawa GP/dataset-normal/certificates_api.txt', '/content/drive/MyDrive/Uottawa GP/dataset-normal/bench_tree.txt', '/content/drive/MyDrive/Uottawa GP/dataset-normal/discriminator_arch.txt', '/content/drive/MyDrive/Uottawa GP/dataset-normal/cluster_scoped_custom_object.txt', '/content/drive/MyDrive/Uottawa GP/dataset-normal/beam_search.txt', '/content/drive/MyDrive/Uottawa GP/dataset-normal/coco_panoptic_separated.txt', '/content/drive/MyDrive/Uottawa GP/dataset-normal/test_quant.txt', '/content/drive/MyDrive/Uottawa GP/dataset-normal/editors.txt', '/content/drive/MyDrive/Uottawa GP/dataset-normal/duee_fin_data_prepare.txt', '/content/drive/MyDrive/Uottawa GP/dataset-normal/calendar_recurrence_rule.txt', '/content/drive/MyDrive/Uottawa GP/dataset-normal/command_lexer.txt', '/content/drive/MyDrive/Uottawa GP/dataset-normal/calc_metrics.txt', '/content/drive/MyDrive/Uottawa GP/dataset-normal/dependencies.txt', '/content/drive/MyDrive/Uottawa GP/dataset-normal/test_project_recurrence.txt', '/content/drive/MyDrive/Uottawa GP/dataset-normal/bert_utils.txt', '/content/drive/MyDrive/Uottawa GP/dataset-normal/etl_data.txt', '/content/drive/MyDrive/Uottawa GP/dataset-normal/catboost.txt', '/content/drive/MyDrive/Uottawa GP/dataset-normal/deform_conv.txt', '/content/drive/MyDrive/Uottawa GP/dataset-normal/core_v1_event_list.txt', '/content/drive/MyDrive/Uottawa GP/dataset-normal/build_dstc2_dataset.txt', '/content/drive/MyDrive/Uottawa GP/dataset-normal/bus_presence.txt', '/content/drive/MyDrive/Uottawa GP/dataset-normal/decoding.txt', '/content/drive/MyDrive/Uottawa GP/dataset-normal/commands-simple.txt', '/content/drive/MyDrive/Uottawa GP/dataset-normal/docstring_utils.txt', '/content/drive/MyDrive/Uottawa GP/dataset-normal/dataloader.txt', '/content/drive/MyDrive/Uottawa GP/dataset-normal/duplicate.txt', '/content/drive/MyDrive/Uottawa GP/dataset-normal/events_v1_event.txt', '/content/drive/MyDrive/Uottawa GP/dataset-normal/dns_spoofing.txt', '/content/drive/MyDrive/Uottawa GP/dataset-normal/decimal_to_binary.txt', '/content/drive/MyDrive/Uottawa GP/dataset-normal/test_raster.txt', '/content/drive/MyDrive/Uottawa GP/dataset-normal/test_project_sharing.txt', '/content/drive/MyDrive/Uottawa GP/dataset-normal/test_project_pricing_type.txt', '/content/drive/MyDrive/Uottawa GP/dataset-normal/demo.txt', '/content/drive/MyDrive/Uottawa GP/dataset-normal/batch_v1_api.txt', '/content/drive/MyDrive/Uottawa GP/dataset-normal/encoder_v2.txt', '/content/drive/MyDrive/Uottawa GP/dataset-normal/base_export_language.txt', '/content/drive/MyDrive/Uottawa GP/dataset-normal/beta1.txt', '/content/drive/MyDrive/Uottawa GP/dataset-normal/test_product_template.txt', '/content/drive/MyDrive/Uottawa GP/dataset-normal/calendar_event.txt', '/content/drive/MyDrive/Uottawa GP/dataset-normal/duee_1_postprocess.txt', '/content/drive/MyDrive/Uottawa GP/dataset-normal/test_pos_multiple_receivable_accounts.txt', '/content/drive/MyDrive/Uottawa GP/dataset-normal/detection_utils.txt', '/content/drive/MyDrive/Uottawa GP/dataset-normal/discriminant_analysis.txt', '/content/drive/MyDrive/Uottawa GP/dataset-normal/crm_iap_lead_role.txt', '/content/drive/MyDrive/Uottawa GP/dataset-normal/convert_bin_npz.txt', '/content/drive/MyDrive/Uottawa GP/dataset-normal/caffe2_inference.txt', '/content/drive/MyDrive/Uottawa GP/dataset-normal/test_pricelist.txt', '/content/drive/MyDrive/Uottawa GP/dataset-normal/test_proc_rule.txt', '/content/drive/MyDrive/Uottawa GP/dataset-normal/converters.txt', '/content/drive/MyDrive/Uottawa GP/dataset-normal/test_program_with_code_operations.txt', '/content/drive/MyDrive/Uottawa GP/dataset-normal/with_foreign_key.txt', '/content/drive/MyDrive/Uottawa GP/dataset-normal/csrf.txt', '/content/drive/MyDrive/Uottawa GP/dataset-normal/eop_constants.txt', '/content/drive/MyDrive/Uottawa GP/dataset-normal/col_text.txt', '/content/drive/MyDrive/Uottawa GP/dataset-normal/certs.txt', '/content/drive/MyDrive/Uottawa GP/dataset-normal/extensions_v1beta1_ingress.txt', '/content/drive/MyDrive/Uottawa GP/dataset-normal/coin_stacks.txt', '/content/drive/MyDrive/Uottawa GP/dataset-normal/test_procurement.txt', '/content/drive/MyDrive/Uottawa GP/dataset-normal/binary_classification.txt', '/content/drive/MyDrive/Uottawa GP/dataset-normal/test_purchase_order.txt', '/content/drive/MyDrive/Uottawa GP/dataset-normal/blob.txt', '/content/drive/MyDrive/Uottawa GP/dataset-normal/delivery_grid.txt', '/content/drive/MyDrive/Uottawa GP/dataset-normal/conf.txt', '/content/drive/MyDrive/Uottawa GP/dataset-normal/choose_delivery_package.txt', '/content/drive/MyDrive/Uottawa GP/dataset-normal/clidirector.txt', '/content/drive/MyDrive/Uottawa GP/dataset-normal/bench_rcv1_logreg_convergence.txt', '/content/drive/MyDrive/Uottawa GP/dataset-normal/domino_play.txt', '/content/drive/MyDrive/Uottawa GP/dataset-normal/dgu_net.txt', '/content/drive/MyDrive/Uottawa GP/dataset-normal/bench_sparsify.txt', '/content/drive/MyDrive/Uottawa GP/dataset-normal/connector.txt', '/content/drive/MyDrive/Uottawa GP/dataset-normal/django_4_0.txt', '/content/drive/MyDrive/Uottawa GP/dataset-normal/DisplayInterface.txt', '/content/drive/MyDrive/Uottawa GP/dataset-normal/basel2.txt', '/content/drive/MyDrive/Uottawa GP/dataset-normal/batch_norm.txt', '/content/drive/MyDrive/Uottawa GP/dataset-normal/docker.txt', '/content/drive/MyDrive/Uottawa GP/dataset-normal/test_pos_simple_orders.txt', '/content/drive/MyDrive/Uottawa GP/dataset-normal/commands.txt', '/content/drive/MyDrive/Uottawa GP/dataset-normal/capture_widget.txt', '/content/drive/MyDrive/Uottawa GP/dataset-normal/test_project_update_access_rights.txt', '/content/drive/MyDrive/Uottawa GP/dataset-normal/crf.txt', '/content/drive/MyDrive/Uottawa GP/dataset-normal/exercise_01_language_train_model.txt', '/content/drive/MyDrive/Uottawa GP/dataset-normal/wrong.txt', '/content/drive/MyDrive/Uottawa GP/dataset-normal/event_quiz.txt', '/content/drive/MyDrive/Uottawa GP/dataset-normal/c2_model_loading.txt', '/content/drive/MyDrive/Uottawa GP/dataset-normal/base_import_language.txt', '/content/drive/MyDrive/Uottawa GP/dataset-normal/bench_lasso.txt', '/content/drive/MyDrive/Uottawa GP/dataset-normal/default_urls.txt', '/content/drive/MyDrive/Uottawa GP/dataset-normal/class_weight.txt', '/content/drive/MyDrive/Uottawa GP/dataset-normal/cbv_as_view.txt', '/content/drive/MyDrive/Uottawa GP/dataset-normal/eval.txt', '/content/drive/MyDrive/Uottawa GP/dataset-normal/environment.txt', '/content/drive/MyDrive/Uottawa GP/dataset-normal/crm_reveal_rule.txt', '/content/drive/MyDrive/Uottawa GP/dataset-normal/extra.txt', '/content/drive/MyDrive/Uottawa GP/dataset-normal/bench_plot_svd.txt', '/content/drive/MyDrive/Uottawa GP/dataset-normal/base_import.txt', '/content/drive/MyDrive/Uottawa GP/dataset-normal/cc.txt', '/content/drive/MyDrive/Uottawa GP/dataset-normal/commands-flows.txt', '/content/drive/MyDrive/Uottawa GP/dataset-normal/basethread.txt', '/content/drive/MyDrive/Uottawa GP/dataset-normal/custom_startproject.txt', '/content/drive/MyDrive/Uottawa GP/dataset-normal/widgetadmin.txt', '/content/drive/MyDrive/Uottawa GP/dataset-normal/test_product_attribute_value_config.txt', '/content/drive/MyDrive/Uottawa GP/dataset-normal/embedder.txt', '/content/drive/MyDrive/Uottawa GP/dataset-normal/certificates_v1_api.txt', '/content/drive/MyDrive/Uottawa GP/dataset-normal/bimo_images.txt', '/content/drive/MyDrive/Uottawa GP/dataset-normal/data_loader.txt', '/content/drive/MyDrive/Uottawa GP/dataset-normal/base_module_uninstall.txt', '/content/drive/MyDrive/Uottawa GP/dataset-normal/deprecated.txt', '/content/drive/MyDrive/Uottawa GP/dataset-normal/dist_utils.txt', '/content/drive/MyDrive/Uottawa GP/dataset-normal/capture_video_frames.txt', '/content/drive/MyDrive/Uottawa GP/dataset-normal/deprecation.txt', '/content/drive/MyDrive/Uottawa GP/dataset-normal/easy_cartoonify.txt', '/content/drive/MyDrive/Uottawa GP/dataset-normal/bench_plot_fastkmeans.txt', '/content/drive/MyDrive/Uottawa GP/dataset-normal/color_augmentation.txt', '/content/drive/MyDrive/Uottawa GP/dataset-normal/custom_user.txt', '/content/drive/MyDrive/Uottawa GP/dataset-normal/test_ransac.txt', '/content/drive/MyDrive/Uottawa GP/dataset-normal/contains_re_named_group.txt', '/content/drive/MyDrive/Uottawa GP/dataset-normal/wifi.txt', '/content/drive/MyDrive/Uottawa GP/dataset-normal/crm_lead_lost.txt', '/content/drive/MyDrive/Uottawa GP/dataset-normal/test_quicksight.txt', '/content/drive/MyDrive/Uottawa GP/dataset-normal/discovery_api.txt', '/content/drive/MyDrive/Uottawa GP/dataset-normal/bench_kernel_pca_solvers_time_vs_n_samples.txt', '/content/drive/MyDrive/Uottawa GP/dataset-normal/c.txt', '/content/drive/MyDrive/Uottawa GP/dataset-normal/convertDynamic.txt', '/content/drive/MyDrive/Uottawa GP/dataset-normal/bench_plot_nmf.txt', '/content/drive/MyDrive/Uottawa GP/dataset-normal/directories.txt', '/content/drive/MyDrive/Uottawa GP/dataset-normal/div_curl.txt', '/content/drive/MyDrive/Uottawa GP/dataset-normal/enable_halving_search_cv.txt', '/content/drive/MyDrive/Uottawa GP/dataset-normal/distill_utils.txt', '/content/drive/MyDrive/Uottawa GP/dataset-normal/defaultkeys.txt', '/content/drive/MyDrive/Uottawa GP/dataset-normal/build_swda_dataset.txt', '/content/drive/MyDrive/Uottawa GP/dataset-normal/zeta.txt', '/content/drive/MyDrive/Uottawa GP/dataset-normal/test_print_check.txt', '/content/drive/MyDrive/Uottawa GP/dataset-normal/coin_flip_tree.txt', '/content/drive/MyDrive/Uottawa GP/dataset-normal/eop_helpers.txt', '/content/drive/MyDrive/Uottawa GP/dataset-normal/densepose_outputs_iuv.txt', '/content/drive/MyDrive/Uottawa GP/dataset-normal/event_registration.txt', '/content/drive/MyDrive/Uottawa GP/dataset-normal/bart_decoding_sample.txt', '/content/drive/MyDrive/Uottawa GP/dataset-normal/complex_multiplication_article.txt', '/content/drive/MyDrive/Uottawa GP/dataset-normal/extract_subimages.txt', '/content/drive/MyDrive/Uottawa GP/dataset-normal/digital_clock.txt', '/content/drive/MyDrive/Uottawa GP/dataset-normal/test_radians.txt', '/content/drive/MyDrive/Uottawa GP/dataset-normal/custom_has_permission_admin.txt', '/content/drive/MyDrive/Uottawa GP/dataset-normal/duconv.txt', '/content/drive/MyDrive/Uottawa GP/dataset-normal/boxes.txt', '/content/drive/MyDrive/Uottawa GP/dataset-normal/distinct.txt', '/content/drive/MyDrive/Uottawa GP/dataset-normal/dusql_dataset_v2.txt', '/content/drive/MyDrive/Uottawa GP/dataset-normal/bench_20newsgroups.txt', '/content/drive/MyDrive/Uottawa GP/dataset-normal/bench.txt', '/content/drive/MyDrive/Uottawa GP/dataset-normal/base_module_update.txt', '/content/drive/MyDrive/Uottawa GP/dataset-normal/yahoo_answer_100k.txt', '/content/drive/MyDrive/Uottawa GP/dataset-normal/digest.txt', '/content/drive/MyDrive/Uottawa GP/dataset-normal/test_pos_sale_report.txt', '/content/drive/MyDrive/Uottawa GP/dataset-normal/convertUI.txt', '/content/drive/MyDrive/Uottawa GP/dataset-normal/executor.txt', '/content/drive/MyDrive/Uottawa GP/dataset-normal/bidaf_model.txt', '/content/drive/MyDrive/Uottawa GP/dataset-normal/chime.txt', '/content/drive/MyDrive/Uottawa GP/dataset-normal/test_project_sharing_ui.txt', '/content/drive/MyDrive/Uottawa GP/dataset-normal/create_pretraining_data.txt', '/content/drive/MyDrive/Uottawa GP/dataset-normal/builder.txt', '/content/drive/MyDrive/Uottawa GP/dataset-normal/cycle_shape2shape.txt', '/content/drive/MyDrive/Uottawa GP/dataset-normal/banner.txt', '/content/drive/MyDrive/Uottawa GP/dataset-normal/creation.txt', '/content/drive/MyDrive/Uottawa GP/dataset-normal/crm_lead.txt', '/content/drive/MyDrive/Uottawa GP/dataset-normal/closeable_cache.txt', '/content/drive/MyDrive/Uottawa GP/dataset-normal/doctests.txt', '/content/drive/MyDrive/Uottawa GP/dataset-normal/dureader_robust.txt', '/content/drive/MyDrive/Uottawa GP/dataset-normal/custom.txt', '/content/drive/MyDrive/Uottawa GP/dataset-normal/evaluator.txt', '/content/drive/MyDrive/Uottawa GP/dataset-normal/test_portal.txt', '/content/drive/MyDrive/Uottawa GP/dataset-normal/test_proto_json_utils.txt', '/content/drive/MyDrive/Uottawa GP/dataset-normal/console.txt', '/content/drive/MyDrive/Uottawa GP/dataset-normal/crm_iap_lead_mining_request.txt', '/content/drive/MyDrive/Uottawa GP/dataset-normal/bayes.txt', '/content/drive/MyDrive/Uottawa GP/dataset-normal/c2.txt', '/content/drive/MyDrive/Uottawa GP/dataset-normal/event_booth.txt', '/content/drive/MyDrive/Uottawa GP/dataset-normal/command_history.txt', '/content/drive/MyDrive/Uottawa GP/dataset-normal/coco_panoptic.txt', '/content/drive/MyDrive/Uottawa GP/dataset-normal/custom_next_layer.txt', '/content/drive/MyDrive/Uottawa GP/dataset-normal/wrong_namespace.txt', '/content/drive/MyDrive/Uottawa GP/dataset-normal/dbhelper.txt', '/content/drive/MyDrive/Uottawa GP/dataset-normal/concurrent_decorator.txt', '/content/drive/MyDrive/Uottawa GP/dataset-normal/test_product_pricelist.txt', '/content/drive/MyDrive/Uottawa GP/dataset-normal/beta3.txt', '/content/drive/MyDrive/Uottawa GP/dataset-normal/equivariance_widget.txt', '/content/drive/MyDrive/Uottawa GP/dataset-normal/chart_template.txt', '/content/drive/MyDrive/Uottawa GP/dataset-normal/exhibitor.txt', '/content/drive/MyDrive/Uottawa GP/dataset-normal/bench_plot_incremental_pca.txt', '/content/drive/MyDrive/Uottawa GP/dataset-normal/extensions_v1beta1_ingress_list.txt', '/content/drive/MyDrive/Uottawa GP/dataset-normal/bench_plot_neighbors.txt', '/content/drive/MyDrive/Uottawa GP/dataset-normal/test_pyspark_ml_autologging.txt', '/content/drive/MyDrive/Uottawa GP/dataset-normal/EasyVideoPlayer.txt', '/content/drive/MyDrive/Uottawa GP/dataset-normal/cfd24bdc0731_update_run_status_constraint_with_killed.txt', '/content/drive/MyDrive/Uottawa GP/dataset-normal/test_random_projection.txt', '/content/drive/MyDrive/Uottawa GP/dataset-normal/drowsiness detection.txt', '/content/drive/MyDrive/Uottawa GP/dataset-normal/coupon_report.txt', '/content/drive/MyDrive/Uottawa GP/dataset-normal/test_quad_tree.txt', '/content/drive/MyDrive/Uottawa GP/dataset-normal/deletion.txt', '/content/drive/MyDrive/Uottawa GP/dataset-normal/test_purchase.txt', '/content/drive/MyDrive/Uottawa GP/dataset-normal/complex_functions.txt', '/content/drive/MyDrive/Uottawa GP/dataset-normal/bench_isolation_forest.txt', '/content/drive/MyDrive/Uottawa GP/dataset-normal/extmath.txt', '/content/drive/MyDrive/Uottawa GP/dataset-normal/bench_hist_gradient_boosting_higgsboson.txt', '/content/drive/MyDrive/Uottawa GP/dataset-normal/xml_html.txt', '/content/drive/MyDrive/Uottawa GP/dataset-normal/confidence.txt', '/content/drive/MyDrive/Uottawa GP/dataset-normal/blocks.txt', '/content/drive/MyDrive/Uottawa GP/dataset-normal/calculator.txt', '/content/drive/MyDrive/Uottawa GP/dataset-normal/determinant_puzzle.txt', '/content/drive/MyDrive/Uottawa GP/dataset-normal/clear_api.txt', '/content/drive/MyDrive/Uottawa GP/dataset-normal/datasource.txt']\n"
          ]
        }
      ]
    },
    {
      "cell_type": "markdown",
      "metadata": {
        "id": "S8aotdgKeEjp"
      },
      "source": [
        "**Remove Comments**"
      ]
    },
    {
      "cell_type": "code",
      "metadata": {
        "id": "oN5tXgCveDls"
      },
      "source": [
        "'''scriptsMaleware = []\n",
        "for i in range(len(dataMaleware)):\n",
        "  with open(dataMaleware[i],encoding='ISO-8859-1') as f:\n",
        "   f = re.findall(\"[\\w']+\", f.read())\n",
        "   scriptsMaleware.append(f)\n",
        "'''         \n",
        "import io, tokenize, re\n",
        "for i in range(len(dataNormal)):\n",
        "  try:\n",
        "    with open(dataNormal[i], 'r') as f:    \n",
        "      mod = open(pathNormalAfterComments + \"/\" + str(i) + \"_strip.txt\", \"w\")        \n",
        "      io_obj = io.StringIO(f.read())\n",
        "      out = \"\"\n",
        "      prev_toktype = tokenize.INDENT\n",
        "      last_lineno = -1\n",
        "      last_col = 0\n",
        "      for tok in tokenize.generate_tokens(io_obj.readline):\n",
        "          token_type = tok[0]\n",
        "          token_string = tok[1]\n",
        "          start_line, start_col = tok[2]\n",
        "          end_line, end_col = tok[3]\n",
        "          ltext = tok[4]\n",
        "          if start_line > last_lineno:\n",
        "               last_col = 0\n",
        "          if start_col > last_col:\n",
        "               out += (\" \" * (start_col - last_col))\n",
        "          if token_type == tokenize.COMMENT:\n",
        "               pass\n",
        "          elif token_type == tokenize.STRING:\n",
        "               if prev_toktype != tokenize.INDENT:\n",
        "                   if prev_toktype != tokenize.NEWLINE:\n",
        "                       if start_col > 0:\n",
        "                           out += token_string\n",
        "          else:\n",
        "              out += token_string\n",
        "          prev_toktype = token_type\n",
        "          last_col = end_col\n",
        "          last_lineno = end_line\n",
        "      out = '\\n'.join(l for l in out.splitlines() if l.strip())\n",
        "      mod.write(out)             \n",
        "   \n",
        "  except:\n",
        "    print(\"An exception occurred ==> \"+str(i)+\" ==> \"+ dataNormal[i])\n",
        "\n",
        "       \n",
        "     \n",
        "\n",
        "   "
      ],
      "execution_count": null,
      "outputs": []
    },
    {
      "cell_type": "code",
      "metadata": {
        "colab": {
          "base_uri": "https://localhost:8080/"
        },
        "id": "7MlETosJe71u",
        "outputId": "1f326019-3194-433f-ac0d-f757f53e9556"
      },
      "source": [
        "import io, tokenize, re\n",
        "for i in range(len(dataMaleware)):\n",
        "  try:\n",
        "    with open(dataMaleware[i], 'r') as f:    \n",
        "      mod = open(pathMalewareAfterComments + \"/\" + str(i) + \"_strip.txt\", \"w\")        \n",
        "      io_obj = io.StringIO(f.read())\n",
        "      out = \"\"\n",
        "      prev_toktype = tokenize.INDENT\n",
        "      last_lineno = -1\n",
        "      last_col = 0\n",
        "      for tok in tokenize.generate_tokens(io_obj.readline):\n",
        "          token_type = tok[0]\n",
        "          token_string = tok[1]\n",
        "          start_line, start_col = tok[2]\n",
        "          end_line, end_col = tok[3]\n",
        "          ltext = tok[4]\n",
        "          if start_line > last_lineno:\n",
        "               last_col = 0\n",
        "          if start_col > last_col:\n",
        "               out += (\" \" * (start_col - last_col))\n",
        "          if token_type == tokenize.COMMENT:\n",
        "               pass\n",
        "          elif token_type == tokenize.STRING:\n",
        "               if prev_toktype != tokenize.INDENT:\n",
        "                   if prev_toktype != tokenize.NEWLINE:\n",
        "                       if start_col > 0:\n",
        "                           out += token_string\n",
        "          else:\n",
        "              out += token_string\n",
        "          prev_toktype = token_type\n",
        "          last_col = end_col\n",
        "          last_lineno = end_line\n",
        "      out = '\\n'.join(l for l in out.splitlines() if l.strip())\n",
        "      mod.write(out)             \n",
        "   \n",
        "  except:\n",
        "    print(\"An exception occurred ==> \"+str(i)+\" ==> \"+ dataMaleware[i])\n"
      ],
      "execution_count": null,
      "outputs": [
        {
          "output_type": "stream",
          "name": "stdout",
          "text": [
            "An exception occurred ==> 69 ==> /content/drive/MyDrive/Uottawa GP/dataset-malware/dropper.txt\n",
            "An exception occurred ==> 168 ==> /content/drive/MyDrive/Uottawa GP/dataset-malware/logger - light.py\n"
          ]
        }
      ]
    },
    {
      "cell_type": "code",
      "metadata": {
        "id": "ryvVAtD3ycgp"
      },
      "source": [
        "\n",
        "\n",
        "scriptsMaleware = []\n",
        "\n",
        "for i in range(len(dataMalewareAfterComments)):\n",
        "  try:\n",
        "    with open(dataMalewareAfterComments[i],encoding='ISO-8859-1') as f:\n",
        "      f = re.findall(\"[\\w']+\", f.read())\n",
        "      scriptsMaleware.append(f)\n",
        "  except:\n",
        "    print(\"An exception occurred ==> \"+str(i)+\" ==> \"+ dataMalewareAfterComments[i])\n"
      ],
      "execution_count": null,
      "outputs": []
    },
    {
      "cell_type": "code",
      "metadata": {
        "colab": {
          "base_uri": "https://localhost:8080/"
        },
        "id": "ljqXMwUIAvZL",
        "outputId": "c1fbfd0d-5a9f-4ea4-eaa6-2bc3adc4cd38"
      },
      "source": [
        "\n",
        "print( scriptsMaleware[0])\n"
      ],
      "execution_count": null,
      "outputs": [
        {
          "output_type": "stream",
          "name": "stdout",
          "text": [
            "[]\n"
          ]
        }
      ]
    },
    {
      "cell_type": "code",
      "metadata": {
        "id": "DiGpqCsYC3Qh"
      },
      "source": [
        "scriptsNormal = []\n",
        "import re\n",
        "for i in range(len(dataNormalAfterComments)):\n",
        "  try:\n",
        "    with open(dataNormalAfterComments[i],encoding='ISO-8859-1') as f:\n",
        "      f = re.findall(\"[\\w']+\", f.read())\n",
        "      scriptsNormal.append(f)\n",
        "  except:\n",
        "    print(\"An exception occurred ==> \"+str(i)+\" ==> \"+ dataNormalAfterComments[i])\n"
      ],
      "execution_count": null,
      "outputs": []
    },
    {
      "cell_type": "code",
      "metadata": {
        "colab": {
          "base_uri": "https://localhost:8080/"
        },
        "id": "JmQLjpiIAza2",
        "outputId": "f255d731-b4fb-4b29-b56f-aab66c76b51a"
      },
      "source": [
        "\n",
        "print( scriptsNormal[0])"
      ],
      "execution_count": null,
      "outputs": [
        {
          "output_type": "stream",
          "name": "stdout",
          "text": [
            "['from', 'odoo', 'import', '_', 'api', 'fields', 'models', 'class', 'TrackStage', 'models', 'Model', '_name', \"'event\", 'track', \"stage'\", '_description', \"'Event\", 'Track', \"Stage'\", '_order', \"'sequence\", \"id'\", 'name', 'fields', 'Char', 'string', \"'Stage\", \"Name'\", 'required', 'True', 'translate', 'True', 'sequence', 'fields', 'Integer', 'string', \"'Sequence'\", 'default', '1', 'mail_template_id', 'fields', 'Many2one', \"'mail\", \"template'\", 'string', \"'Email\", \"Template'\", 'domain', \"'model'\", \"'\", \"'\", \"'event\", \"track'\", 'help', 'If', 'set', 'an', 'email', 'will', 'be', 'sent', 'to', 'the', 'customer', 'when', 'the', 'track', 'reaches', 'this', 'step', 'color', 'fields', 'Integer', 'string', \"'Color'\", 'description', 'fields', 'Text', 'string', \"'Description'\", 'translate', 'True', 'legend_blocked', 'fields', 'Char', \"'Red\", 'Kanban', \"Label'\", 'default', 'lambda', 's', '_', \"'Blocked'\", 'translate', 'True', 'legend_done', 'fields', 'Char', \"'Green\", 'Kanban', \"Label'\", 'default', 'lambda', 's', '_', \"'Ready\", 'for', 'Next', \"Stage'\", 'translate', 'True', 'legend_normal', 'fields', 'Char', \"'Grey\", 'Kanban', \"Label'\", 'default', 'lambda', 's', '_', \"'In\", \"Progress'\", 'translate', 'True', 'fold', 'fields', 'Boolean', 'string', \"'Folded\", 'in', \"Kanban'\", 'help', \"'This\", 'stage', 'is', 'folded', 'in', 'the', 'kanban', 'view', 'when', 'there', 'are', 'no', 'records', 'in', 'that', 'stage', 'to', 'display', \"'\", 'is_visible_in_agenda', 'fields', 'Boolean', 'string', \"'Visible\", 'in', \"agenda'\", 'compute', \"'_compute_is_visible_in_agenda'\", 'store', 'True', 'help', \"'If\", 'checked', 'the', 'related', 'tracks', 'will', 'be', 'visible', 'in', 'the', 'frontend', \"'\", 'is_fully_accessible', 'fields', 'Boolean', 'string', \"'Fully\", \"accessible'\", 'compute', \"'_compute_is_fully_accessible'\", 'store', 'True', 'help', \"'If\", 'checked', 'automatically', 'publish', 'tracks', 'so', 'that', 'access', 'links', 'to', 'customers', 'are', 'provided', \"'\", 'is_cancel', 'fields', 'Boolean', 'string', \"'Canceled\", \"Stage'\", 'api', 'depends', \"'is_cancel'\", \"'is_fully_accessible'\", 'def', '_compute_is_visible_in_agenda', 'self', 'for', 'record', 'in', 'self', 'if', 'record', 'is_cancel', 'record', 'is_visible_in_agenda', 'False', 'elif', 'record', 'is_fully_accessible', 'record', 'is_visible_in_agenda', 'True', 'api', 'depends', \"'is_cancel'\", \"'is_visible_in_agenda'\", 'def', '_compute_is_fully_accessible', 'self', 'for', 'record', 'in', 'self', 'if', 'record', 'is_cancel', 'or', 'not', 'record', 'is_visible_in_agenda', 'record', 'is_fully_accessible', 'False']\n"
          ]
        }
      ]
    },
    {
      "cell_type": "code",
      "metadata": {
        "id": "gzjREZDb7Vbb"
      },
      "source": [
        "full_scriptsMaleware = []\n",
        "labels = []\n",
        "labs = []\n",
        "for script in scriptsMaleware:\n",
        "  full_scriptsMaleware.append(' '.join(script))\n",
        "  labels.append('malware')\n",
        "  labs.append( 1 )\n"
      ],
      "execution_count": null,
      "outputs": []
    },
    {
      "cell_type": "code",
      "metadata": {
        "colab": {
          "base_uri": "https://localhost:8080/"
        },
        "id": "HjgEB-q0A-08",
        "outputId": "5cf4d18a-dff3-4f5b-8a57-76ddbead5f60"
      },
      "source": [
        "print( full_scriptsMaleware[0])"
      ],
      "execution_count": null,
      "outputs": [
        {
          "output_type": "stream",
          "name": "stdout",
          "text": [
            "\n"
          ]
        }
      ]
    },
    {
      "cell_type": "code",
      "metadata": {
        "id": "zgLcHx1pA-4V"
      },
      "source": [
        ""
      ],
      "execution_count": null,
      "outputs": []
    },
    {
      "cell_type": "code",
      "metadata": {
        "id": "41FH-GdKDAQS"
      },
      "source": [
        "full_scriptsNormal = []\n",
        "label = []\n",
        "lab=[]\n",
        "for nor in scriptsNormal:\n",
        "  full_scriptsNormal.append(' '.join(nor))\n",
        "  label.append('normal')\n",
        "  lab.append(0)\n"
      ],
      "execution_count": null,
      "outputs": []
    },
    {
      "cell_type": "code",
      "metadata": {
        "id": "UWwsn51l2S-F"
      },
      "source": [
        "Maldata = pd.DataFrame({\"scripts\": full_scriptsMaleware, 'labels': labels , 'label_name' :labs })"
      ],
      "execution_count": null,
      "outputs": []
    },
    {
      "cell_type": "code",
      "metadata": {
        "colab": {
          "base_uri": "https://localhost:8080/",
          "height": 419
        },
        "id": "NwKU8VMy1zrn",
        "outputId": "8a6ce1f2-05fb-468d-a80c-01c109bf1028"
      },
      "source": [
        "Maldata"
      ],
      "execution_count": null,
      "outputs": [
        {
          "output_type": "execute_result",
          "data": {
            "text/html": [
              "<div>\n",
              "<style scoped>\n",
              "    .dataframe tbody tr th:only-of-type {\n",
              "        vertical-align: middle;\n",
              "    }\n",
              "\n",
              "    .dataframe tbody tr th {\n",
              "        vertical-align: top;\n",
              "    }\n",
              "\n",
              "    .dataframe thead th {\n",
              "        text-align: right;\n",
              "    }\n",
              "</style>\n",
              "<table border=\"1\" class=\"dataframe\">\n",
              "  <thead>\n",
              "    <tr style=\"text-align: right;\">\n",
              "      <th></th>\n",
              "      <th>scripts</th>\n",
              "      <th>labels</th>\n",
              "      <th>label_name</th>\n",
              "    </tr>\n",
              "  </thead>\n",
              "  <tbody>\n",
              "    <tr>\n",
              "      <th>0</th>\n",
              "      <td></td>\n",
              "      <td>malware</td>\n",
              "      <td>1</td>\n",
              "    </tr>\n",
              "    <tr>\n",
              "      <th>1</th>\n",
              "      <td>from ctypes import def run import ctypes impor...</td>\n",
              "      <td>malware</td>\n",
              "      <td>1</td>\n",
              "    </tr>\n",
              "    <tr>\n",
              "      <th>2</th>\n",
              "      <td>import subprocess import sys import os remove ...</td>\n",
              "      <td>malware</td>\n",
              "      <td>1</td>\n",
              "    </tr>\n",
              "    <tr>\n",
              "      <th>3</th>\n",
              "      <td>import os import socket import subprocess def ...</td>\n",
              "      <td>malware</td>\n",
              "      <td>1</td>\n",
              "    </tr>\n",
              "    <tr>\n",
              "      <th>4</th>\n",
              "      <td>import struct socket binascii ctypes random ti...</td>\n",
              "      <td>malware</td>\n",
              "      <td>1</td>\n",
              "    </tr>\n",
              "    <tr>\n",
              "      <th>...</th>\n",
              "      <td>...</td>\n",
              "      <td>...</td>\n",
              "      <td>...</td>\n",
              "    </tr>\n",
              "    <tr>\n",
              "      <th>191</th>\n",
              "      <td>from pynput keyboard import Key Listener impor...</td>\n",
              "      <td>malware</td>\n",
              "      <td>1</td>\n",
              "    </tr>\n",
              "    <tr>\n",
              "      <th>192</th>\n",
              "      <td>from pynput keyboard import Listener from thre...</td>\n",
              "      <td>malware</td>\n",
              "      <td>1</td>\n",
              "    </tr>\n",
              "    <tr>\n",
              "      <th>193</th>\n",
              "      <td>from pynput keyboard import Listener list_of_w...</td>\n",
              "      <td>malware</td>\n",
              "      <td>1</td>\n",
              "    </tr>\n",
              "    <tr>\n",
              "      <th>194</th>\n",
              "      <td>import sys import win32api pythoncom import py...</td>\n",
              "      <td>malware</td>\n",
              "      <td>1</td>\n",
              "    </tr>\n",
              "    <tr>\n",
              "      <th>195</th>\n",
              "      <td></td>\n",
              "      <td>malware</td>\n",
              "      <td>1</td>\n",
              "    </tr>\n",
              "  </tbody>\n",
              "</table>\n",
              "<p>196 rows × 3 columns</p>\n",
              "</div>"
            ],
            "text/plain": [
              "                                               scripts   labels  label_name\n",
              "0                                                       malware           1\n",
              "1    from ctypes import def run import ctypes impor...  malware           1\n",
              "2    import subprocess import sys import os remove ...  malware           1\n",
              "3    import os import socket import subprocess def ...  malware           1\n",
              "4    import struct socket binascii ctypes random ti...  malware           1\n",
              "..                                                 ...      ...         ...\n",
              "191  from pynput keyboard import Key Listener impor...  malware           1\n",
              "192  from pynput keyboard import Listener from thre...  malware           1\n",
              "193  from pynput keyboard import Listener list_of_w...  malware           1\n",
              "194  import sys import win32api pythoncom import py...  malware           1\n",
              "195                                                     malware           1\n",
              "\n",
              "[196 rows x 3 columns]"
            ]
          },
          "metadata": {},
          "execution_count": 16
        }
      ]
    },
    {
      "cell_type": "code",
      "metadata": {
        "id": "ojSD627P3mdO"
      },
      "source": [
        "NorData = pd.DataFrame({ \"scripts\" : full_scriptsNormal ,'labels': label, 'label_name' :lab })"
      ],
      "execution_count": null,
      "outputs": []
    },
    {
      "cell_type": "code",
      "metadata": {
        "colab": {
          "base_uri": "https://localhost:8080/",
          "height": 419
        },
        "id": "QsMrXKifED7C",
        "outputId": "3c748023-bbe2-412b-dc68-f3c13a11fe34"
      },
      "source": [
        "NorData"
      ],
      "execution_count": null,
      "outputs": [
        {
          "output_type": "execute_result",
          "data": {
            "text/html": [
              "<div>\n",
              "<style scoped>\n",
              "    .dataframe tbody tr th:only-of-type {\n",
              "        vertical-align: middle;\n",
              "    }\n",
              "\n",
              "    .dataframe tbody tr th {\n",
              "        vertical-align: top;\n",
              "    }\n",
              "\n",
              "    .dataframe thead th {\n",
              "        text-align: right;\n",
              "    }\n",
              "</style>\n",
              "<table border=\"1\" class=\"dataframe\">\n",
              "  <thead>\n",
              "    <tr style=\"text-align: right;\">\n",
              "      <th></th>\n",
              "      <th>scripts</th>\n",
              "      <th>labels</th>\n",
              "      <th>label_name</th>\n",
              "    </tr>\n",
              "  </thead>\n",
              "  <tbody>\n",
              "    <tr>\n",
              "      <th>0</th>\n",
              "      <td>from odoo import _ api fields models class Tra...</td>\n",
              "      <td>normal</td>\n",
              "      <td>0</td>\n",
              "    </tr>\n",
              "    <tr>\n",
              "      <th>1</th>\n",
              "      <td>from odoo import api fields models _ from odoo...</td>\n",
              "      <td>normal</td>\n",
              "      <td>0</td>\n",
              "    </tr>\n",
              "    <tr>\n",
              "      <th>2</th>\n",
              "      <td>import abc import sys import numpy as np impor...</td>\n",
              "      <td>normal</td>\n",
              "      <td>0</td>\n",
              "    </tr>\n",
              "    <tr>\n",
              "      <th>3</th>\n",
              "      <td>from scipy import linalg import numpy as np fr...</td>\n",
              "      <td>normal</td>\n",
              "      <td>0</td>\n",
              "    </tr>\n",
              "    <tr>\n",
              "      <th>4</th>\n",
              "      <td>EU_TAX_MAP 'AT' 10 0 'BE' 6 0 'AT' 10 0 'BG' 2...</td>\n",
              "      <td>normal</td>\n",
              "      <td>0</td>\n",
              "    </tr>\n",
              "    <tr>\n",
              "      <th>...</th>\n",
              "      <td>...</td>\n",
              "      <td>...</td>\n",
              "      <td>...</td>\n",
              "    </tr>\n",
              "    <tr>\n",
              "      <th>160</th>\n",
              "      <td>import base64 from io import BytesIO from lxml...</td>\n",
              "      <td>normal</td>\n",
              "      <td>0</td>\n",
              "    </tr>\n",
              "    <tr>\n",
              "      <th>161</th>\n",
              "      <td>import csv from collections import namedtuple ...</td>\n",
              "      <td>normal</td>\n",
              "      <td>0</td>\n",
              "    </tr>\n",
              "    <tr>\n",
              "      <th>162</th>\n",
              "      <td>import numpy as np from numpy testing import a...</td>\n",
              "      <td>normal</td>\n",
              "      <td>0</td>\n",
              "    </tr>\n",
              "    <tr>\n",
              "      <th>163</th>\n",
              "      <td>import numpy as np import pytest from pytest i...</td>\n",
              "      <td>normal</td>\n",
              "      <td>0</td>\n",
              "    </tr>\n",
              "    <tr>\n",
              "      <th>164</th>\n",
              "      <td></td>\n",
              "      <td>normal</td>\n",
              "      <td>0</td>\n",
              "    </tr>\n",
              "  </tbody>\n",
              "</table>\n",
              "<p>165 rows × 3 columns</p>\n",
              "</div>"
            ],
            "text/plain": [
              "                                               scripts  labels  label_name\n",
              "0    from odoo import _ api fields models class Tra...  normal           0\n",
              "1    from odoo import api fields models _ from odoo...  normal           0\n",
              "2    import abc import sys import numpy as np impor...  normal           0\n",
              "3    from scipy import linalg import numpy as np fr...  normal           0\n",
              "4    EU_TAX_MAP 'AT' 10 0 'BE' 6 0 'AT' 10 0 'BG' 2...  normal           0\n",
              "..                                                 ...     ...         ...\n",
              "160  import base64 from io import BytesIO from lxml...  normal           0\n",
              "161  import csv from collections import namedtuple ...  normal           0\n",
              "162  import numpy as np from numpy testing import a...  normal           0\n",
              "163  import numpy as np import pytest from pytest i...  normal           0\n",
              "164                                                     normal           0\n",
              "\n",
              "[165 rows x 3 columns]"
            ]
          },
          "metadata": {},
          "execution_count": 18
        }
      ]
    },
    {
      "cell_type": "code",
      "metadata": {
        "id": "ignsLlyuEFVR"
      },
      "source": [
        "Alldata = pd.concat([Maldata,NorData])"
      ],
      "execution_count": null,
      "outputs": []
    },
    {
      "cell_type": "code",
      "metadata": {
        "colab": {
          "base_uri": "https://localhost:8080/",
          "height": 419
        },
        "id": "oOBIviTWE02x",
        "outputId": "24a64559-dc72-4c86-8478-96cb8b217202"
      },
      "source": [
        "Alldata"
      ],
      "execution_count": null,
      "outputs": [
        {
          "output_type": "execute_result",
          "data": {
            "text/html": [
              "<div>\n",
              "<style scoped>\n",
              "    .dataframe tbody tr th:only-of-type {\n",
              "        vertical-align: middle;\n",
              "    }\n",
              "\n",
              "    .dataframe tbody tr th {\n",
              "        vertical-align: top;\n",
              "    }\n",
              "\n",
              "    .dataframe thead th {\n",
              "        text-align: right;\n",
              "    }\n",
              "</style>\n",
              "<table border=\"1\" class=\"dataframe\">\n",
              "  <thead>\n",
              "    <tr style=\"text-align: right;\">\n",
              "      <th></th>\n",
              "      <th>scripts</th>\n",
              "      <th>labels</th>\n",
              "      <th>label_name</th>\n",
              "    </tr>\n",
              "  </thead>\n",
              "  <tbody>\n",
              "    <tr>\n",
              "      <th>0</th>\n",
              "      <td></td>\n",
              "      <td>malware</td>\n",
              "      <td>1</td>\n",
              "    </tr>\n",
              "    <tr>\n",
              "      <th>1</th>\n",
              "      <td>from ctypes import def run import ctypes impor...</td>\n",
              "      <td>malware</td>\n",
              "      <td>1</td>\n",
              "    </tr>\n",
              "    <tr>\n",
              "      <th>2</th>\n",
              "      <td>import subprocess import sys import os remove ...</td>\n",
              "      <td>malware</td>\n",
              "      <td>1</td>\n",
              "    </tr>\n",
              "    <tr>\n",
              "      <th>3</th>\n",
              "      <td>import os import socket import subprocess def ...</td>\n",
              "      <td>malware</td>\n",
              "      <td>1</td>\n",
              "    </tr>\n",
              "    <tr>\n",
              "      <th>4</th>\n",
              "      <td>import struct socket binascii ctypes random ti...</td>\n",
              "      <td>malware</td>\n",
              "      <td>1</td>\n",
              "    </tr>\n",
              "    <tr>\n",
              "      <th>...</th>\n",
              "      <td>...</td>\n",
              "      <td>...</td>\n",
              "      <td>...</td>\n",
              "    </tr>\n",
              "    <tr>\n",
              "      <th>160</th>\n",
              "      <td>import base64 from io import BytesIO from lxml...</td>\n",
              "      <td>normal</td>\n",
              "      <td>0</td>\n",
              "    </tr>\n",
              "    <tr>\n",
              "      <th>161</th>\n",
              "      <td>import csv from collections import namedtuple ...</td>\n",
              "      <td>normal</td>\n",
              "      <td>0</td>\n",
              "    </tr>\n",
              "    <tr>\n",
              "      <th>162</th>\n",
              "      <td>import numpy as np from numpy testing import a...</td>\n",
              "      <td>normal</td>\n",
              "      <td>0</td>\n",
              "    </tr>\n",
              "    <tr>\n",
              "      <th>163</th>\n",
              "      <td>import numpy as np import pytest from pytest i...</td>\n",
              "      <td>normal</td>\n",
              "      <td>0</td>\n",
              "    </tr>\n",
              "    <tr>\n",
              "      <th>164</th>\n",
              "      <td></td>\n",
              "      <td>normal</td>\n",
              "      <td>0</td>\n",
              "    </tr>\n",
              "  </tbody>\n",
              "</table>\n",
              "<p>361 rows × 3 columns</p>\n",
              "</div>"
            ],
            "text/plain": [
              "                                               scripts   labels  label_name\n",
              "0                                                       malware           1\n",
              "1    from ctypes import def run import ctypes impor...  malware           1\n",
              "2    import subprocess import sys import os remove ...  malware           1\n",
              "3    import os import socket import subprocess def ...  malware           1\n",
              "4    import struct socket binascii ctypes random ti...  malware           1\n",
              "..                                                 ...      ...         ...\n",
              "160  import base64 from io import BytesIO from lxml...   normal           0\n",
              "161  import csv from collections import namedtuple ...   normal           0\n",
              "162  import numpy as np from numpy testing import a...   normal           0\n",
              "163  import numpy as np import pytest from pytest i...   normal           0\n",
              "164                                                      normal           0\n",
              "\n",
              "[361 rows x 3 columns]"
            ]
          },
          "metadata": {},
          "execution_count": 20
        }
      ]
    },
    {
      "cell_type": "code",
      "metadata": {
        "id": "M7bIh2oVFXRi"
      },
      "source": [
        "Alldata.to_csv(\"out.csv\")"
      ],
      "execution_count": null,
      "outputs": []
    },
    {
      "cell_type": "markdown",
      "metadata": {
        "id": "Bg6pPE4SSVPj"
      },
      "source": [
        "**With Random Select Training and Testing samples:**\n",
        "\n",
        "\n",
        "Training = 80%\n",
        "\n",
        "Testing = 20% "
      ]
    },
    {
      "cell_type": "code",
      "metadata": {
        "colab": {
          "base_uri": "https://localhost:8080/"
        },
        "id": "WiXL9gt0KEpp",
        "outputId": "380afc3b-ea7e-4cb4-ed6d-c660bb7a7e3b"
      },
      "source": [
        "\n",
        "X_train, X_test, y_train, y_test = train_test_split(Alldata['scripts'],Alldata['label_name'],test_size=0.2, random_state=0, shuffle = True )\n",
        "\n",
        "print(  y_train )\n",
        "\n",
        "print( y_test )"
      ],
      "execution_count": null,
      "outputs": [
        {
          "output_type": "stream",
          "name": "stdout",
          "text": [
            "63     1\n",
            "128    0\n",
            "159    0\n",
            "117    0\n",
            "78     1\n",
            "      ..\n",
            "127    0\n",
            "192    1\n",
            "117    1\n",
            "47     1\n",
            "172    1\n",
            "Name: label_name, Length: 288, dtype: int64\n",
            "186    1\n",
            "59     0\n",
            "45     1\n",
            "26     1\n",
            "20     0\n",
            "      ..\n",
            "104    0\n",
            "34     0\n",
            "167    1\n",
            "116    1\n",
            "4      0\n",
            "Name: label_name, Length: 73, dtype: int64\n"
          ]
        }
      ]
    },
    {
      "cell_type": "markdown",
      "metadata": {
        "id": "syOFZiFfUEDk"
      },
      "source": [
        "**CountVectorizer:**\n",
        "\n",
        "\n",
        "Convert a collection of text documents to a matrix of token counts.\n",
        "\n",
        "**ngram_range tuple (min_n, max_n), default=(1, 1):**\n",
        "\n",
        "The lower and upper boundary of the range of n-values for different word n-grams or char n-grams to be extracted. (2, 2) means only bigrams.\n",
        "\n"
      ]
    },
    {
      "cell_type": "markdown",
      "metadata": {
        "id": "7wHUdJsscwGj"
      },
      "source": [
        "**SGDClassifier:**\n",
        "\n",
        "This estimator implements regularized linear models with stochastic gradient descent (SGD) learning.\n",
        "\n",
        "This implementation works with data represented as dense or sparse arrays of floating point values for the features. The model it fits can be controlled with the loss parameter; by default, it fits a linear support vector machine (SVM).\n",
        "\n",
        "**MLPClassifier:**\n",
        "\n",
        "Multi-layer Perceptron classifier.\n",
        "\n"
      ]
    },
    {
      "cell_type": "code",
      "metadata": {
        "id": "fNwF3rPAKrRB"
      },
      "source": [
        "'''\n",
        "#print(CountVectorizer(input= X_train))\n",
        "sys.stdout = open('file', 'w')\n",
        "print(CountVectorizer(input= X_train, analyzer='word', ngram_range=(2, 2)))\n",
        "sys.stdout.close()\n",
        "'''\n",
        "\n",
        "from pandas import DataFrame\n",
        "from sklearn.feature_extraction.text import CountVectorizer\n",
        "vect = CountVectorizer(analyzer='word', ngram_range=(1, 1), min_df=0., max_df=1.0)\n",
        "X = vect.fit_transform(X_train)\n",
        "sys.stdout = open('/content/drive/MyDrive/Uottawa GP/CountVectorizer1.csv', 'w')\n",
        "print(DataFrame(X.A, columns=vect.get_feature_names()).to_string())\n",
        "sys.stdout.close()\n",
        "\n",
        "\n",
        "\n",
        "transformations = [\n",
        "                   [('tran', CountVectorizer())],\n",
        "                   [('tran', CountVectorizer(analyzer='word', ngram_range=(2, 2)))]\n",
        "                  ]\n",
        "\n",
        "classifiers = [\n",
        "               [('clf', SGDClassifier(max_iter=5))],\n",
        "               [('clf', KNeighborsClassifier(n_neighbors=5))],\n",
        "               [('clf', DecisionTreeClassifier(random_state=0))],\n",
        "               [('clf', svm.SVC())],\n",
        "               [('clf', MLPClassifier(max_iter=5))],\n",
        "               [('clf', LogisticRegression())],\n",
        "#               [('clf', RandomForestRegressor(n_estimators=20, random_state=0))],\n",
        "               [('clf', XGBClassifier())]\n",
        "\n",
        "              ]\n",
        "\n",
        "models = []\n",
        "for transform in transformations:\n",
        "  #print(transform)\n",
        "  for classifier in classifiers:\n",
        "    text_clf = Pipeline(transform + classifier)\n",
        "    #print(text_clf)\n",
        "    models.append(deepcopy(text_clf))\n",
        "\n"
      ],
      "execution_count": null,
      "outputs": []
    },
    {
      "cell_type": "code",
      "metadata": {
        "id": "Ek0wqCbzgIMg"
      },
      "source": [
        "len(models)"
      ],
      "execution_count": null,
      "outputs": []
    },
    {
      "cell_type": "code",
      "metadata": {
        "id": "yfoJvF6vXPYn"
      },
      "source": [
        "X_train.shape"
      ],
      "execution_count": null,
      "outputs": []
    },
    {
      "cell_type": "code",
      "metadata": {
        "id": "ugtqk6Pw9CXq",
        "colab": {
          "base_uri": "https://localhost:8080/"
        },
        "outputId": "862074b3-1d39-4404-951b-b3b369beaa0f"
      },
      "source": [
        "from sklearn.model_selection import KFold\n",
        "\n",
        "kf = KFold(n_splits=10)\n",
        "for text_clf in models:\n",
        "  scores = []\n",
        "  for train, test in kf.split(X_train):\n",
        "\n",
        "    model = text_clf.fit(X_train.iloc[train], y_train.iloc[train])\n",
        "    scores.append(metrics.accuracy_score( y_train.iloc[test], model.predict(X_train.iloc[test])))\n",
        "\n",
        "  print('-------------------------------------')\n",
        "  print('-------------------------------------')\n",
        "  print('-------------------------------------')\n",
        "  print('-------------------------------------')\n",
        "  print('-------------------------------------')\n",
        "  print(model)\n",
        "  print(\"Accuracy: %0.2f%%\" %(np.array(scores).mean()*100))\n",
        "  print('-------------------------------------')\n",
        "  print('-------------------------------------')\n",
        "  print('-------------------------------------')\n",
        "  print('-------------------------------------')\n",
        "  print('-------------------------------------')\n",
        "  print('-------------------------------------')\n",
        "  "
      ],
      "execution_count": null,
      "outputs": [
        {
          "output_type": "stream",
          "name": "stderr",
          "text": [
            "/usr/local/lib/python3.7/dist-packages/sklearn/linear_model/_stochastic_gradient.py:557: ConvergenceWarning: Maximum number of iteration reached before convergence. Consider increasing max_iter to improve the fit.\n",
            "  ConvergenceWarning)\n"
          ]
        }
      ]
    },
    {
      "cell_type": "code",
      "metadata": {
        "id": "hFQy1ELjlImX"
      },
      "source": [
        "models[7]"
      ],
      "execution_count": null,
      "outputs": []
    },
    {
      "cell_type": "code",
      "metadata": {
        "id": "RJzCcRAW_gQ6"
      },
      "source": [
        "from sklearn.model_selection import GridSearchCV\n",
        "\n",
        "parameters = {\n",
        "\n",
        "    'tran__max_df': (1,2),\n",
        "    'tran__ngram_range': [(1, 1), (1, 2), (2,2)],\n",
        "    'clf__alpha': (1e-2, 1e-3)\n",
        "}\n",
        "\n",
        "scorer = metrics.make_scorer(metrics.accuracy_score)\n",
        "gs_clf = GridSearchCV(deepcopy(models[7]), parameters, cv=10, n_jobs=-1, scoring=scorer)\n",
        "\n",
        "# Fit and evaluate\n",
        "gs_clf = gs_clf.fit(X_train, y_train)\n",
        "\n",
        "\n",
        "print()\n",
        "print('Best Parameters')\n",
        "print('----------------')\n",
        "for param_name in sorted(parameters.keys()):\n",
        "  print(\"%s: %r\" % (param_name, gs_clf.best_params_[param_name]))\n",
        "\n"
      ],
      "execution_count": null,
      "outputs": []
    },
    {
      "cell_type": "code",
      "metadata": {
        "id": "8R0uk_WZjLwY"
      },
      "source": [
        "predicted = gs_clf.predict(X_test)\n",
        "print(\"Testing accu: \" + str(gs_clf.score(X_test, y_test)))\n",
        "cm = metrics.confusion_matrix(y_test, predicted)\n",
        "\n",
        "print (cm )\n",
        "metrics.plot_confusion_matrix(gs_clf, X_test, y_test)\n",
        "\n",
        "\n",
        "print(classification_report(y_test, predicted))\n",
        "\n",
        "print(\"F1 Score = \",  f1_score(y_test, predicted,average=\"macro\"))\n",
        "print(\"Precision Score = \" ,precision_score(y_test, predicted, average=\"macro\"))\n",
        "print(\"Recall Score = \", recall_score(y_test, predicted, average=\"macro\"))  "
      ],
      "execution_count": null,
      "outputs": []
    },
    {
      "cell_type": "code",
      "metadata": {
        "id": "6MLVnvjkSPqb"
      },
      "source": [
        "# y_test = y_test.to_numpy( ) \n"
      ],
      "execution_count": null,
      "outputs": []
    },
    {
      "cell_type": "code",
      "metadata": {
        "id": "GwNbN7z-T0GL"
      },
      "source": [
        "\n",
        "\n",
        "indexx = y_test.index \n",
        "\n",
        "indexx\n",
        "\n",
        "print( type( indexx ))\n",
        "\n",
        "dd = indexx.to_numpy(  )\n",
        "\n",
        "print( dd )\n",
        "\n",
        "print( dd[0 ])"
      ],
      "execution_count": null,
      "outputs": []
    },
    {
      "cell_type": "code",
      "metadata": {
        "id": "USgEx0ckQgpv"
      },
      "source": [
        "testt = y_test.to_numpy( )\n",
        "for x in range( len( dd) ):\n",
        "\n",
        "  if(  predicted[x]  != testt[x] ):\n",
        "\n",
        "    print( \"index of actaul partition is : \" ,  dd[x]  , \"actual label is : \" , testt[x]  , \"   predicted label is   :  \"  , predicted[x] )\n",
        "\n"
      ],
      "execution_count": null,
      "outputs": []
    },
    {
      "cell_type": "markdown",
      "metadata": {
        "id": "MMXM8xCCHeqR"
      },
      "source": [
        "Adjust CSV"
      ]
    },
    {
      "cell_type": "code",
      "metadata": {
        "id": "7JbqnfJ2Hgwj"
      },
      "source": [
        "#input file\n",
        "fin = open('/content/drive/MyDrive/Uottawa GP/CountVectorizer.csv', 'rt')\n",
        "\n",
        "#output file to write the result to\n",
        "fout = open('/content/drive/MyDrive/Uottawa GP/CountVectorizer2.csv', \"wt\")\n",
        "\n",
        "#for each line in the input file\n",
        "for line in fin:\n",
        "\t#read replace the string and write to output file\n",
        "  print(line.replace(' ', ', '))\n",
        "  fout.write(line.replace(' ', ', '))\n",
        "\n",
        "#close input and output files\n",
        "fin.close()\n",
        "fout.close()"
      ],
      "execution_count": null,
      "outputs": []
    },
    {
      "cell_type": "markdown",
      "metadata": {
        "id": "oHjQo5M1OjC-"
      },
      "source": [
        "For Each script and for each line get the weight"
      ]
    },
    {
      "cell_type": "code",
      "metadata": {
        "id": "TAOJCK7TOjzC"
      },
      "source": [
        "!pip install stringsifter~=2.0"
      ],
      "execution_count": null,
      "outputs": []
    },
    {
      "cell_type": "code",
      "metadata": {
        "id": "PJJlBtG9QKtF"
      },
      "source": [
        "!pip install stringsifter"
      ],
      "execution_count": null,
      "outputs": []
    }
  ]
}